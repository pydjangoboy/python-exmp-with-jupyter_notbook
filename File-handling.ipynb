{
 "cells": [
  {
   "cell_type": "markdown",
   "metadata": {},
   "source": [
    "# File Handling\n",
    "As the part of programming requirement, we have to store our data permanently for\n",
    "future purpose. For this requirement we should go for files.\n",
    "Files are very common permanent storage areas to store our data.\n",
    "\n",
    "Types of Files:\n",
    "There are 2 types of files\n",
    "\n",
    "1. Text Files:\n",
    "Usually we can use text files to store character data.\n",
    "\n",
    "eg: abc.txt\n",
    "2. Binary Files:\n",
    "Usually we can use binary files to store binary data like images,video files, audio files etc.\n",
    "\n",
    "Opening a File:\n",
    "f = open(filename, mode)\n",
    "\n",
    "The allowed modes in Python are:\n",
    "Eg: r,w,a,x  r+,w+,a+.,x+ # for text file \n",
    "\n",
    "Eg: rb,wb,ab,r+b,w+b,a+b,xb # for binary file\n",
    "    "
   ]
  },
  {
   "cell_type": "code",
   "execution_count": 3,
   "metadata": {},
   "outputs": [
    {
     "name": "stdout",
     "output_type": "stream",
     "text": [
      "file name abc.txt\n",
      "mode name w\n",
      "Is File Readable:  False\n",
      "Is File Writable:  True\n",
      "Is File Closed :  False\n",
      "Is File Closed :  True\n"
     ]
    }
   ],
   "source": [
    "# f = open(\"abc.txt\",\"w\")\n",
    "# We are opening abc.txt file for writing data.\n",
    "# Closing a File:\n",
    "# After completing our operations on the file,it is highly recommended to close the file.\n",
    "# For this we have to use close() function.\n",
    "# f.close()\n",
    "\n",
    "# Various properties of File Object:\n",
    "\n",
    "# Once we opend a file and we got file object,we can get various details related to that file\n",
    "# by using its properties.\n",
    "\n",
    "# name = Name of opened file\n",
    "# mode = Mode in which the file is opened\n",
    "# closed = Returns boolean value indicates that file is closed or not\n",
    "# readable()= Retruns boolean value indicates that whether file is readable or not\n",
    "# writable()= Returns boolean value indicates that whether file is writable or not.\n",
    "\n",
    "\n",
    "\n",
    "# Eg:\n",
    "\n",
    "f=open('abc.txt','w')\n",
    "print('file name',f.name)\n",
    "print('mode name',f.mode)\n",
    "print(\"Is File Readable: \",f.readable())\n",
    "print(\"Is File Writable: \",f.writable())\n",
    "print(\"Is File Closed : \",f.closed)\n",
    "f.close()\n",
    "print(\"Is File Closed : \",f.closed)"
   ]
  },
  {
   "cell_type": "code",
   "execution_count": 5,
   "metadata": {},
   "outputs": [
    {
     "name": "stdout",
     "output_type": "stream",
     "text": [
      "successfully we write some text into file\n"
     ]
    }
   ],
   "source": [
    "# Writing data to text files:\n",
    "\n",
    "# We can write character data to the text files by using the following 2 methods.\n",
    "# write(str)\n",
    "# writelines(list of lines)\n",
    "\n",
    "f=open('abc.txt','w')\n",
    "f.write('hello file i am writing some text\\n')\n",
    "f.write('this is second line of text\\n')\n",
    "print('successfully we write some text into file')\n",
    "f.close()"
   ]
  },
  {
   "cell_type": "code",
   "execution_count": 9,
   "metadata": {},
   "outputs": [
    {
     "name": "stdout",
     "output_type": "stream",
     "text": [
      "list of lines written success\n"
     ]
    }
   ],
   "source": [
    "# eg2:\n",
    "f=open('abc.txt','w')\n",
    "list=['rana\\n','jaya\\n','krishna\\n']\n",
    "f.writelines(list)\n",
    "print('list of lines written success')\n",
    "f.close()"
   ]
  },
  {
   "cell_type": "code",
   "execution_count": 11,
   "metadata": {},
   "outputs": [
    {
     "name": "stdout",
     "output_type": "stream",
     "text": [
      "rana\n",
      "jaya\n",
      "krishna\n",
      "\n"
     ]
    }
   ],
   "source": [
    "# Reading Character Data from text files:\n",
    "\n",
    "# We can read character data from text file by using the following read methods.\n",
    "# read()= To read total data from the file\n",
    "# read(n) = To read 'n' characters from the file\n",
    "# readline()= To read only one line\n",
    "# readlines()= To read all lines into a list\n",
    "\n",
    "# eEg 1: To read total data from the file\n",
    "\n",
    "f=open('abc.txt','r')\n",
    "data=f.read()\n",
    "print(data)\n",
    "f.close()\n"
   ]
  },
  {
   "cell_type": "code",
   "execution_count": 13,
   "metadata": {},
   "outputs": [
    {
     "name": "stdout",
     "output_type": "stream",
     "text": [
      "rana\n",
      "j\n"
     ]
    }
   ],
   "source": [
    "# Eg 2: To read only first 10 characters:\n",
    "f=open('abc.txt','r')\n",
    "data=f.read(6)\n",
    "print(data)\n",
    "f.close()"
   ]
  },
  {
   "cell_type": "code",
   "execution_count": 17,
   "metadata": {},
   "outputs": [
    {
     "name": "stdout",
     "output_type": "stream",
     "text": [
      "rana\n",
      "jaya\n",
      "krishna\n"
     ]
    }
   ],
   "source": [
    "# Eg 3: To read data line by line:\n",
    "f=open('abc.txt','r')\n",
    "line1=f.readline()\n",
    "print(line1,end='')\n",
    "line2=f.readline()\n",
    "print(line2,end='')\n",
    "line3=f.readline()\n",
    "print(line3,end='')\n",
    "f.close()\n"
   ]
  },
  {
   "cell_type": "code",
   "execution_count": 19,
   "metadata": {},
   "outputs": [
    {
     "name": "stdout",
     "output_type": "stream",
     "text": [
      "rana\n",
      "jaya\n",
      "krishna\n"
     ]
    }
   ],
   "source": [
    "# Eg 4: To read all lines into list:\n",
    "f=open('abc.txt','r')\n",
    "lines=f.readlines()\n",
    "for l in lines:\n",
    "    print(l,end='')\n",
    "f.close()    "
   ]
  },
  {
   "cell_type": "code",
   "execution_count": 21,
   "metadata": {},
   "outputs": [
    {
     "name": "stdout",
     "output_type": "stream",
     "text": [
      "ran\n",
      "a\n",
      "\n",
      "jaya\n",
      "Remaining data\n",
      "\n",
      "krishna\n",
      "\n"
     ]
    }
   ],
   "source": [
    "f=open(\"abc.txt\",\"r\")\n",
    "print(f.read(3))\n",
    "print(f.readline())\n",
    "print(f.read(4))\n",
    "print(\"Remaining data\")\n",
    "print(f.read())"
   ]
  },
  {
   "cell_type": "code",
   "execution_count": 23,
   "metadata": {},
   "outputs": [
    {
     "name": "stdout",
     "output_type": "stream",
     "text": [
      "is file closed: False\n",
      "is file closed: True\n"
     ]
    }
   ],
   "source": [
    "# The with statement:\n",
    "# The with statement can be used while opening a file.We can use this to group file\n",
    "# operation statements within a block.\n",
    "# The advantage of with statement is it will take care closing of file,after completing all\n",
    "# operations automatically even in the case of exceptions also, and we are not required to\n",
    "# close explicitly.\n",
    "\n",
    "# eg:\n",
    "with open('abc.txt','w') as f:\n",
    "    f.write('im writing some text usign with keyword\\n')\n",
    "    f.write('im writing some text usign with keyword for second line\\n')\n",
    "    print('is file closed:',f.closed)\n",
    "print('is file closed:',f.closed)"
   ]
  },
  {
   "cell_type": "code",
   "execution_count": 25,
   "metadata": {},
   "outputs": [
    {
     "name": "stdout",
     "output_type": "stream",
     "text": [
      "0\n",
      "im\n",
      "2\n",
      " wr\n",
      "5\n"
     ]
    }
   ],
   "source": [
    "# The seek() and tell() methods:\n",
    "# tell():\n",
    "\n",
    "# ==>We can use tell() method to return current position of the cursor(file pointer) from\n",
    "# beginning of the file. [ can you plese telll current cursor position]\n",
    "# The position(index) of first character in files is zero just like string index.\n",
    "\n",
    "f=open(\"abc.txt\",\"r\")\n",
    "print(f.tell())\n",
    "print(f.read(2))\n",
    "print(f.tell())\n",
    "print(f.read(3))\n",
    "print(f.tell())"
   ]
  },
  {
   "cell_type": "code",
   "execution_count": 33,
   "metadata": {},
   "outputs": [
    {
     "name": "stdout",
     "output_type": "stream",
     "text": [
      "All Students are STUPIDS\n",
      "The Current Cursor Position:  24\n",
      "The Current Cursor Position:  17\n",
      "Data After Modification:\n",
      "All Students are GEMS!!!\n"
     ]
    }
   ],
   "source": [
    "# seek():\n",
    "# We can use seek() method to move cursor(file pointer) to specified location.\n",
    "# [Can you please seek the cursor to a particular location]\n",
    "\n",
    "# f.seek(offset, fromwhere)\n",
    "# The allowed values for second attribute(from where) are\n",
    "# 0---->From beginning of file(default value)\n",
    "# 1---->From current position\n",
    "# 2--->From end of the file\n",
    "\n",
    "data=\"All Students are STUPIDS\"\n",
    "f=open(\"abc.txt\",\"w\")\n",
    "f.write(data)\n",
    "with open(\"abc.txt\",\"r+\") as f:\n",
    "    text=f.read()\n",
    "    print(text)\n",
    "    print(\"The Current Cursor Position: \",f.tell())\n",
    "    f.seek(17)\n",
    "    print(\"The Current Cursor Position: \",f.tell())\n",
    "    f.write(\"GEMS!!!\")\n",
    "    f.seek(0)\n",
    "    text=f.read()\n",
    "    print(\"Data After Modification:\")\n",
    "    print(text)"
   ]
  },
  {
   "cell_type": "code",
   "execution_count": 36,
   "metadata": {},
   "outputs": [
    {
     "name": "stdout",
     "output_type": "stream",
     "text": [
      "New Image is available with the name: newpic.jpg\n"
     ]
    }
   ],
   "source": [
    "# Handling Binary Data:\n",
    "# It is very common requirement to read or write binary data like images,video files,audio\n",
    "# files etc.\n",
    "f1=open(\"macos.jpg\",\"rb\")\n",
    "f2=open(\"mc.jpg\",\"wb\")\n",
    "bytes=f1.read()\n",
    "f2.write(bytes)\n",
    "print(\"New Image is available with the name: newpic.jpg\")"
   ]
  },
  {
   "cell_type": "code",
   "execution_count": 38,
   "metadata": {},
   "outputs": [
    {
     "name": "stdout",
     "output_type": "stream",
     "text": [
      "Enter no of employess:2\n",
      "Enter Employee No:101\n",
      "Enter Employee Name:shyam\n",
      "Enter Employee Salary:10000\n",
      "Enter Employee Address:Mathura\n",
      "Enter Employee No:102\n",
      "Enter Employee Name:Krishna\n",
      "Enter Employee Salary:20000\n",
      "Enter Employee Address:Gokul\n",
      "Total Employees data written to csv file successfully\n"
     ]
    }
   ],
   "source": [
    "# Handling csv files:\n",
    "# CSV==>Comma seperated values\n",
    "# As the part of programming,it is very common requirement to write and read data wrt csv\n",
    "# files. Python provides csv module to handle csv files.\n",
    "\n",
    "import csv\n",
    "with open('emp.csv','w',newline='') as f:\n",
    "    w=csv.writer(f)\n",
    "    w.writerow(['ENO','ENAME','ESAL','EADDRESS'])\n",
    "    n=int(input(\"Enter no of employess:\"))\n",
    "    for i in range(n):\n",
    "        eno=input(\"Enter Employee No:\")\n",
    "        ename=input(\"Enter Employee Name:\")\n",
    "        esal=input(\"Enter Employee Salary:\")\n",
    "        eaddress=input(\"Enter Employee Address:\")\n",
    "        w.writerow([eno,ename,esal,eaddress])\n",
    "print(\"Total Employees data written to csv file successfully\")        "
   ]
  },
  {
   "cell_type": "code",
   "execution_count": 53,
   "metadata": {},
   "outputs": [
    {
     "name": "stdout",
     "output_type": "stream",
     "text": [
      "ENO \tENAME \tESAL \tEADDRESS \t\n",
      "101 \tshyam \t10000 \tMathura \t\n",
      "102 \tKrishna \t20000 \tGokul \t\n"
     ]
    }
   ],
   "source": [
    "# Reading Data from csv file:\n",
    "\n",
    "f=open('emp.csv','r')\n",
    "r=csv.reader(f)\n",
    "data=r\n",
    "for line in data:\n",
    "    for word in line:\n",
    "        print(word,'\\t',end='')\n",
    "    print()    "
   ]
  },
  {
   "cell_type": "code",
   "execution_count": 56,
   "metadata": {},
   "outputs": [
    {
     "name": "stdout",
     "output_type": "stream",
     "text": [
      "zipping completed\n"
     ]
    }
   ],
   "source": [
    "# Zipping and Unzipping Files:\n",
    "\n",
    "# It is very common requirement to zip and unzip files.\n",
    "# The main advantages are:\n",
    "# 1. To improve memory utilization\n",
    "# 2. We can reduce transport time\n",
    "# 3. We can improve performance.\n",
    "# To perform zip and unzip operations, Python contains one in-bulit module zip file.\n",
    "# This module contains a class : ZipFil\n",
    "\n",
    "# To create Zip file:\n",
    "\n",
    "# We have to create ZipFile class object with name of the zip file,mode and constant\n",
    "# ZIP_DEFLATED. This constant represents we are creating zip file.\n",
    "# f = ZipFile(\"files.zip\",\"w\",\"ZIP_DEFLATED\")\n",
    "# Once we create ZipFile object,we can add files by using write() method.\n",
    "# f.write(filename)\n",
    "\n",
    "# eg:\n",
    "from zipfile import *\n",
    "f=ZipFile('abc.zip','w',ZIP_DEFLATED)\n",
    "f.write('abc.txt')\n",
    "f.write('emp.csv')\n",
    "f.close()\n",
    "print('zipping completed')"
   ]
  },
  {
   "cell_type": "code",
   "execution_count": 66,
   "metadata": {},
   "outputs": [
    {
     "name": "stdout",
     "output_type": "stream",
     "text": [
      "filename: abc.txt\n",
      "print the content of this file is:\n",
      "b'All Students are GEMS!!!'\n",
      "\n",
      "filename: emp.csv\n",
      "print the content of this file is:\n",
      "b'ENO,ENAME,ESAL,EADDRESS\\r\\n101,shyam,10000,Mathura\\r\\n102,Krishna,20000,Gokul\\r\\n'\n",
      "\n"
     ]
    }
   ],
   "source": [
    "# To perform unzip operation:\n",
    "\n",
    "# We have to create ZipFile object as follows\n",
    "# f = ZipFile(\"files.zip\",\"r\",ZIP_STORED)\n",
    "# ZIP_STORED represents unzip operation. This is default value and hence we are not\n",
    "# required to specify.\n",
    "# Once we created ZipFile object for unzip operation,we can get all file names present in\n",
    "# that zip file by using namelist() method\n",
    "\n",
    "# eg:\n",
    "from zipfile import *\n",
    "f=ZipFile('abc.zip','r',ZIP_STORED)\n",
    "names=f.namelist()\n",
    "for name in names:\n",
    "    print('filename:',name)\n",
    "    print('print the content of this file is:')\n",
    "    f1=open(name,'r')\n",
    "    print(f.read(name))\n",
    "    print()"
   ]
  },
  {
   "cell_type": "markdown",
   "metadata": {},
   "source": [
    "# Pickling and Unpickling of Objects:"
   ]
  },
  {
   "cell_type": "code",
   "execution_count": 67,
   "metadata": {},
   "outputs": [],
   "source": [
    "# Pickling and Unpickling of Objects:\n",
    "    \n",
    "# Sometimes we have to write total state of object to the file and we have to read total\n",
    "# object from the file.\n",
    "\n",
    "# The process of writing state of object to the file is called pickling and the process of\n",
    "# reading state of an object from the file is called unpickling.\n",
    "\n",
    "# We can implement pickling and unpickling by using pickle module of Python.\n",
    "\n",
    "# pickle module contains dump() function to perform pickling ==> pickle.dump(object,file)\n",
    "\n",
    "# pickle module contains load() function to perform unpickling==> obj=pickle.load(file)"
   ]
  },
  {
   "cell_type": "code",
   "execution_count": 75,
   "metadata": {},
   "outputs": [
    {
     "name": "stdout",
     "output_type": "stream",
     "text": [
      "Pickling of Employee Object completed...\n",
      "Printing Employee Information after unpickling\n",
      "100 \t jaya \t 1000 \t Sonebhadra\n"
     ]
    }
   ],
   "source": [
    "# Writing and Reading State of object by using pickle Module:\n",
    "\n",
    "import pickle\n",
    "class Employee:\n",
    "    def __init__(self,eno,ename,esal,eaddr):\n",
    "        self.eno=eno;\n",
    "        self.ename=ename;\n",
    "        self.esal=esal;\n",
    "        self.eaddr=eaddr;\n",
    "    def display(self):\n",
    "        print(self.eno,\"\\t\",self.ename,\"\\t\",self.esal,\"\\t\",self.eaddr)\n",
    "with open(\"emp.dat\",\"wb\") as f:\n",
    "    e=Employee(100,\"jaya\",1000,\"Sonebhadra\")\n",
    "    pickle.dump(e,f)\n",
    "    print(\"Pickling of Employee Object completed...\")\n",
    "with open(\"emp.dat\",\"rb\") as f:\n",
    "    obj=pickle.load(f)\n",
    "    print(\"Printing Employee Information after unpickling\")\n",
    "    obj.display()"
   ]
  }
 ],
 "metadata": {
  "kernelspec": {
   "display_name": "Python 3",
   "language": "python",
   "name": "python3"
  },
  "language_info": {
   "codemirror_mode": {
    "name": "ipython",
    "version": 3
   },
   "file_extension": ".py",
   "mimetype": "text/x-python",
   "name": "python",
   "nbconvert_exporter": "python",
   "pygments_lexer": "ipython3",
   "version": "3.6.9"
  },
  "varInspector": {
   "cols": {
    "lenName": 16,
    "lenType": 16,
    "lenVar": 40
   },
   "kernels_config": {
    "python": {
     "delete_cmd_postfix": "",
     "delete_cmd_prefix": "del ",
     "library": "var_list.py",
     "varRefreshCmd": "print(var_dic_list())"
    },
    "r": {
     "delete_cmd_postfix": ") ",
     "delete_cmd_prefix": "rm(",
     "library": "var_list.r",
     "varRefreshCmd": "cat(var_dic_list()) "
    }
   },
   "types_to_exclude": [
    "module",
    "function",
    "builtin_function_or_method",
    "instance",
    "_Feature"
   ],
   "window_display": false
  }
 },
 "nbformat": 4,
 "nbformat_minor": 4
}

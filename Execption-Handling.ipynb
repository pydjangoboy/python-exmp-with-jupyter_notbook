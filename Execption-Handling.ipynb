{
 "cells": [
  {
   "cell_type": "markdown",
   "metadata": {},
   "source": [
    "# Exception Handling"
   ]
  },
  {
   "cell_type": "code",
   "execution_count": 3,
   "metadata": {},
   "outputs": [
    {
     "ename": "SyntaxError",
     "evalue": "invalid syntax (<ipython-input-3-6f8b3ea81d55>, line 10)",
     "output_type": "error",
     "traceback": [
      "\u001b[0;36m  File \u001b[0;32m\"<ipython-input-3-6f8b3ea81d55>\"\u001b[0;36m, line \u001b[0;32m10\u001b[0m\n\u001b[0;31m    if x==20\u001b[0m\n\u001b[0m            ^\u001b[0m\n\u001b[0;31mSyntaxError\u001b[0m\u001b[0;31m:\u001b[0m invalid syntax\n"
     ]
    }
   ],
   "source": [
    "# In any programming language there are 2 types of errors are possible.\n",
    "\n",
    "# 1. Syntax Errors\n",
    "# 2. Runtime Errors\n",
    "\n",
    "# 1. Syntax Errors:\n",
    "# The errors which occurs because of invalid syntax are called syntax errors.\n",
    "\n",
    "x=20\n",
    "if x==20\n",
    "    print('hello exception')"
   ]
  },
  {
   "cell_type": "code",
   "execution_count": 5,
   "metadata": {},
   "outputs": [
    {
     "ename": "SyntaxError",
     "evalue": "invalid syntax (<ipython-input-5-48b5fbdf4b4a>, line 1)",
     "output_type": "error",
     "traceback": [
      "\u001b[0;36m  File \u001b[0;32m\"<ipython-input-5-48b5fbdf4b4a>\"\u001b[0;36m, line \u001b[0;32m1\u001b[0m\n\u001b[0;31m    print\"hwllo world\"\u001b[0m\n\u001b[0m                     ^\u001b[0m\n\u001b[0;31mSyntaxError\u001b[0m\u001b[0;31m:\u001b[0m invalid syntax\n"
     ]
    }
   ],
   "source": [
    "print\"hwllo world\""
   ]
  },
  {
   "cell_type": "code",
   "execution_count": 7,
   "metadata": {},
   "outputs": [
    {
     "ename": "ZeroDivisionError",
     "evalue": "division by zero",
     "output_type": "error",
     "traceback": [
      "\u001b[0;31m---------------------------------------------------------------------------\u001b[0m",
      "\u001b[0;31mZeroDivisionError\u001b[0m                         Traceback (most recent call last)",
      "\u001b[0;32m<ipython-input-7-7820a2957ca6>\u001b[0m in \u001b[0;36m<module>\u001b[0;34m\u001b[0m\n\u001b[1;32m      5\u001b[0m \u001b[0;34m\u001b[0m\u001b[0m\n\u001b[1;32m      6\u001b[0m \u001b[0;31m# eg:\u001b[0m\u001b[0;34m\u001b[0m\u001b[0;34m\u001b[0m\u001b[0;34m\u001b[0m\u001b[0m\n\u001b[0;32m----> 7\u001b[0;31m \u001b[0mprint\u001b[0m\u001b[0;34m(\u001b[0m\u001b[0;36m10\u001b[0m\u001b[0;34m/\u001b[0m\u001b[0;36m0\u001b[0m\u001b[0;34m)\u001b[0m\u001b[0;34m\u001b[0m\u001b[0;34m\u001b[0m\u001b[0m\n\u001b[0m",
      "\u001b[0;31mZeroDivisionError\u001b[0m: division by zero"
     ]
    }
   ],
   "source": [
    "# 2. Runtime Errors:\n",
    "\n",
    "# While executing the program if something goes wrong because of end user input or\n",
    "# programming logic or memory problems etc then we will get Runtime Errors.\n",
    "\n",
    "# eg:\n",
    "print(10/0)"
   ]
  },
  {
   "cell_type": "code",
   "execution_count": 9,
   "metadata": {},
   "outputs": [
    {
     "ename": "TypeError",
     "evalue": "unsupported operand type(s) for /: 'int' and 'str'",
     "output_type": "error",
     "traceback": [
      "\u001b[0;31m---------------------------------------------------------------------------\u001b[0m",
      "\u001b[0;31mTypeError\u001b[0m                                 Traceback (most recent call last)",
      "\u001b[0;32m<ipython-input-9-865324f49858>\u001b[0m in \u001b[0;36m<module>\u001b[0;34m\u001b[0m\n\u001b[0;32m----> 1\u001b[0;31m \u001b[0mprint\u001b[0m\u001b[0;34m(\u001b[0m\u001b[0;36m10\u001b[0m\u001b[0;34m/\u001b[0m\u001b[0;34m'ten'\u001b[0m\u001b[0;34m)\u001b[0m\u001b[0;34m\u001b[0m\u001b[0;34m\u001b[0m\u001b[0m\n\u001b[0m",
      "\u001b[0;31mTypeError\u001b[0m: unsupported operand type(s) for /: 'int' and 'str'"
     ]
    }
   ],
   "source": [
    "print(10/'ten')"
   ]
  },
  {
   "cell_type": "code",
   "execution_count": 11,
   "metadata": {},
   "outputs": [
    {
     "name": "stdout",
     "output_type": "stream",
     "text": [
      "Enter number:ten\n"
     ]
    },
    {
     "ename": "ValueError",
     "evalue": "invalid literal for int() with base 10: 'ten'",
     "output_type": "error",
     "traceback": [
      "\u001b[0;31m---------------------------------------------------------------------------\u001b[0m",
      "\u001b[0;31mValueError\u001b[0m                                Traceback (most recent call last)",
      "\u001b[0;32m<ipython-input-11-9b8c3d9fdd62>\u001b[0m in \u001b[0;36m<module>\u001b[0;34m\u001b[0m\n\u001b[0;32m----> 1\u001b[0;31m \u001b[0mx\u001b[0m\u001b[0;34m=\u001b[0m\u001b[0mint\u001b[0m\u001b[0;34m(\u001b[0m\u001b[0minput\u001b[0m\u001b[0;34m(\u001b[0m\u001b[0;34m'Enter number:'\u001b[0m\u001b[0;34m)\u001b[0m\u001b[0;34m)\u001b[0m\u001b[0;34m\u001b[0m\u001b[0;34m\u001b[0m\u001b[0m\n\u001b[0m\u001b[1;32m      2\u001b[0m \u001b[0mprint\u001b[0m\u001b[0;34m(\u001b[0m\u001b[0mx\u001b[0m\u001b[0;34m)\u001b[0m\u001b[0;34m\u001b[0m\u001b[0;34m\u001b[0m\u001b[0m\n\u001b[1;32m      3\u001b[0m \u001b[0;34m\u001b[0m\u001b[0m\n\u001b[1;32m      4\u001b[0m \u001b[0;31m# Note: Exception Handling concept applicable for Runtime Errors most of cases but not for syntax errors\u001b[0m\u001b[0;34m\u001b[0m\u001b[0;34m\u001b[0m\u001b[0;34m\u001b[0m\u001b[0m\n",
      "\u001b[0;31mValueError\u001b[0m: invalid literal for int() with base 10: 'ten'"
     ]
    }
   ],
   "source": [
    "x=int(input('Enter number:'))\n",
    "print(x)\n",
    "\n",
    "# Note: Exception Handling concept applicable for Runtime Errors most of cases but not for syntax errors"
   ]
  },
  {
   "cell_type": "code",
   "execution_count": 1,
   "metadata": {},
   "outputs": [],
   "source": [
    "# What is Exception:\n",
    "\n",
    "# An unwanted and unexpected event that disturbs normal flow of program is called\n",
    "# exception.\n",
    "\n",
    "# eg: \n",
    "# ZeroDivisionError\n",
    "# TypeError\n",
    "# ValueError\n",
    "# FileNotFoundError\n",
    "# EOFError\n",
    "# SleepingError\n",
    "# TyrePuncturedError\n",
    "\n",
    "# Exception handling does not mean repairing exception. We have to define alternative way\n",
    "# to continue rest of the program normally.\n",
    "\n",
    "# try:\n",
    "#     read data from remote file locating at singapur\n",
    "# except FileNotFoundError:\n",
    "# use local file and continue rest of the program normally\n",
    "\n"
   ]
  },
  {
   "cell_type": "code",
   "execution_count": 2,
   "metadata": {},
   "outputs": [],
   "source": [
    "# eg:\n",
    "\n",
    "# try:\n",
    "#     Risky Code\n",
    "# except XXX:\n",
    "#     Handling code/Alternative Code\n",
    "\n"
   ]
  },
  {
   "cell_type": "code",
   "execution_count": 4,
   "metadata": {},
   "outputs": [
    {
     "name": "stdout",
     "output_type": "stream",
     "text": [
      "statement-1:\n"
     ]
    },
    {
     "ename": "ZeroDivisionError",
     "evalue": "division by zero",
     "output_type": "error",
     "traceback": [
      "\u001b[0;31m---------------------------------------------------------------------------\u001b[0m",
      "\u001b[0;31mZeroDivisionError\u001b[0m                         Traceback (most recent call last)",
      "\u001b[0;32m<ipython-input-4-d6f273a865da>\u001b[0m in \u001b[0;36m<module>\u001b[0;34m\u001b[0m\n\u001b[1;32m      1\u001b[0m \u001b[0;31m# without try-except:\u001b[0m\u001b[0;34m\u001b[0m\u001b[0;34m\u001b[0m\u001b[0;34m\u001b[0m\u001b[0m\n\u001b[1;32m      2\u001b[0m \u001b[0mprint\u001b[0m\u001b[0;34m(\u001b[0m\u001b[0;34m'statement-1:'\u001b[0m\u001b[0;34m)\u001b[0m\u001b[0;34m\u001b[0m\u001b[0;34m\u001b[0m\u001b[0m\n\u001b[0;32m----> 3\u001b[0;31m \u001b[0mprint\u001b[0m\u001b[0;34m(\u001b[0m\u001b[0;36m10\u001b[0m\u001b[0;34m/\u001b[0m\u001b[0;36m0\u001b[0m\u001b[0;34m)\u001b[0m\u001b[0;34m\u001b[0m\u001b[0;34m\u001b[0m\u001b[0m\n\u001b[0m\u001b[1;32m      4\u001b[0m \u001b[0mprint\u001b[0m\u001b[0;34m(\u001b[0m\u001b[0;34m'statement-2:'\u001b[0m\u001b[0;34m)\u001b[0m\u001b[0;34m\u001b[0m\u001b[0;34m\u001b[0m\u001b[0m\n",
      "\u001b[0;31mZeroDivisionError\u001b[0m: division by zero"
     ]
    }
   ],
   "source": [
    "# without try-except:\n",
    "print('statement-1:')\n",
    "print(10/0)\n",
    "print('statement-2:')\n",
    "\n",
    "# Abnormal termination/Non-Graceful Termination"
   ]
  },
  {
   "cell_type": "code",
   "execution_count": 6,
   "metadata": {},
   "outputs": [
    {
     "name": "stdout",
     "output_type": "stream",
     "text": [
      "Stmat-1\n",
      "5.0\n",
      "Stmat-2\n"
     ]
    }
   ],
   "source": [
    "# with try-except:\n",
    "\n",
    "print('Stmat-1')\n",
    "try:\n",
    "    print(10/0)\n",
    "except ZeroDivisionError:\n",
    "    print(10/2)\n",
    "print('Stmat-2')    \n",
    "\n",
    "# Normal termination/Graceful Termination"
   ]
  },
  {
   "cell_type": "code",
   "execution_count": 16,
   "metadata": {},
   "outputs": [
    {
     "name": "stdout",
     "output_type": "stream",
     "text": [
      "self msg raise by execption: division by zero\n"
     ]
    }
   ],
   "source": [
    "# How to print exception information:\n",
    "try:\n",
    "    print(10/0)\n",
    "except ZeroDivisionError as msg:\n",
    "    print('self msg raise by execption:',msg)"
   ]
  },
  {
   "cell_type": "code",
   "execution_count": 22,
   "metadata": {},
   "outputs": [
    {
     "name": "stdout",
     "output_type": "stream",
     "text": [
      "Enter first no:10\n",
      "Enter second no:30\n",
      "0.3333333333333333\n"
     ]
    }
   ],
   "source": [
    "# try with multiple except blocks:\n",
    "\n",
    "# eg:\n",
    "\n",
    "# try:\n",
    "# -------\n",
    "# -------\n",
    "# -------\n",
    "# except ZeroDivisionError:\n",
    "#     perform alternative\n",
    "#     arithmetic operations\n",
    "    \n",
    "# except FileNotFoundError:\n",
    "#     use local file instead of remote file    \n",
    "\n",
    "# program:\n",
    "try:\n",
    "    x=int(input('Enter first no:'))\n",
    "    y=int(input(\"Enter second no:\"))\n",
    "    print(x/y)\n",
    "except ZeroDivisionError:\n",
    "    print(\"Sorry we can't divide with zero\")\n",
    "except ValueError:\n",
    "    print('pls provide int value only')\n",
    "    \n",
    "# error:\n",
    "\n",
    "# Enter First Number: 10\n",
    "# Enter Second Number: 0\n",
    "# Can't Divide with Zero  \n",
    "\n",
    "# Enter First Number: 10\n",
    "# Enter Second Number: ten\n",
    "# pls provide int value onl"
   ]
  },
  {
   "cell_type": "code",
   "execution_count": 26,
   "metadata": {},
   "outputs": [
    {
     "name": "stdout",
     "output_type": "stream",
     "text": [
      "Enter First Number: 10\n",
      "Enter Second Number: ten\n",
      "ValueError\n"
     ]
    }
   ],
   "source": [
    "try:\n",
    "    x=int(input(\"Enter First Number: \"))\n",
    "    y=int(input(\"Enter Second Number: \"))\n",
    "    print(x/y)\n",
    "except ArithmeticError :\n",
    "    print(\"ArithmeticError\")\n",
    "except ZeroDivisionError:\n",
    "    print(\"ZeroDivisionError\")\n",
    "except ValueError:\n",
    "    print('ValueError')"
   ]
  },
  {
   "cell_type": "code",
   "execution_count": 32,
   "metadata": {},
   "outputs": [
    {
     "name": "stdout",
     "output_type": "stream",
     "text": [
      "Enter First Number: 10\n",
      "Enter Second Number: ten\n",
      "Pls provide a valid no and problem is: invalid literal for int() with base 10: 'ten'\n"
     ]
    }
   ],
   "source": [
    "# Single except block that can handle multiple exceptions:\n",
    "\n",
    "# We can write a single except block that can handle multiple different types of exceptions.\n",
    "\n",
    "# except (Exception1,Exception2,exception3,..): or\n",
    "# except (Exception1,Exception2,exception3,..) as msg :\n",
    "\n",
    "# Parenthesis are mandatory and this group of exceptions internally considered as tuple.\n",
    "\n",
    "# eg:\n",
    "\n",
    "try:\n",
    "    x=int(input(\"Enter First Number: \"))\n",
    "    y=int(input(\"Enter Second Number: \"))\n",
    "    print(x/y)\n",
    "except (ZeroDivisionError,ValueError,ArithmeticError) as msg:\n",
    "    print('Pls provide a valid no and problem is:',msg)\n",
    "    "
   ]
  },
  {
   "cell_type": "code",
   "execution_count": 35,
   "metadata": {},
   "outputs": [
    {
     "name": "stdout",
     "output_type": "stream",
     "text": [
      "Enter First Number: 10\n",
      "Enter Second Number: ten\n",
      "By default except block:Pls provide a valid input only\n"
     ]
    }
   ],
   "source": [
    "# Default except block:\n",
    "\n",
    "# We can use default except block to handle any type of exceptions.\n",
    "# In default except block generally we can print normal error messages.\n",
    "\n",
    "try:\n",
    "    x=int(input(\"Enter First Number: \"))\n",
    "    y=int(input(\"Enter Second Number: \"))\n",
    "    print(x/y)\n",
    "except ZeroDivisionError:\n",
    "    print('ZeroDivisionError:Can not divide with zero')\n",
    "except:\n",
    "    print('By default except block:Pls provide a valid input only')"
   ]
  },
  {
   "cell_type": "code",
   "execution_count": 37,
   "metadata": {},
   "outputs": [
    {
     "ename": "SyntaxError",
     "evalue": "default 'except:' must be last (<ipython-input-37-e56dcafb6150>, line 7)",
     "output_type": "error",
     "traceback": [
      "\u001b[0;36m  File \u001b[0;32m\"<ipython-input-37-e56dcafb6150>\"\u001b[0;36m, line \u001b[0;32m7\u001b[0m\n\u001b[0;31m    except ZeroDivisionError:\u001b[0m\n\u001b[0m                        ^\u001b[0m\n\u001b[0;31mSyntaxError\u001b[0m\u001b[0;31m:\u001b[0m default 'except:' must be last\n"
     ]
    }
   ],
   "source": [
    "# *** Note: If try with multiple except blocks available then default except block should be\n",
    "# last,otherwise we will get SyntaxError.\n",
    "try:\n",
    "    print(10/0)\n",
    "except:\n",
    "    print(\"Default Except\")\n",
    "except ZeroDivisionError:\n",
    "    print(\"ZeroDivisionError\")\n",
    "    "
   ]
  },
  {
   "cell_type": "markdown",
   "metadata": {},
   "source": [
    "Note:\n",
    "    \n",
    "The following are various possible combinations of except blocks\n",
    "1. except ZeroDivisionError:\n",
    "1. except ZeroDivisionError as msg:\n",
    "3. except (ZeroDivisionError,ValueError) :\n",
    "4. except (ZeroDivisionError,ValueError) as msg:\n",
    "5. except :"
   ]
  },
  {
   "cell_type": "markdown",
   "metadata": {},
   "source": [
    "# finally block:"
   ]
  },
  {
   "cell_type": "markdown",
   "metadata": {},
   "source": [
    "<!-- Hence we required some place to maintain clean up code which should be executed\n",
    "always irrespective of whether exception raised or not raised and whether exception\n",
    "handled or not handled. Such type of best place is nothing but finally block.\n",
    "\n",
    "Hence the main purpose of finally block is to maintain clean up code.\n",
    "\n",
    "eg:\n",
    "\n",
    "try:\n",
    "    Risky Code\n",
    "except:\n",
    "    Handling Code\n",
    "finally:\n",
    "    Cleanup code\n",
    "\n",
    "Note: The speciality of finally block is it will be executed always whether exception raised or not\n",
    "raised and whether exception handled or not handled.\n",
    "\n",
    " -->"
   ]
  },
  {
   "cell_type": "code",
   "execution_count": 40,
   "metadata": {},
   "outputs": [
    {
     "name": "stdout",
     "output_type": "stream",
     "text": [
      "try\n",
      "finally\n"
     ]
    }
   ],
   "source": [
    "# Case-1: If there is no exception\n",
    "\n",
    "try:\n",
    "    print('try')\n",
    "except:\n",
    "    print(' except')\n",
    "finally:\n",
    "    print('finally')"
   ]
  },
  {
   "cell_type": "code",
   "execution_count": 47,
   "metadata": {},
   "outputs": [
    {
     "name": "stdout",
     "output_type": "stream",
     "text": [
      "Enter First Number: 10\n",
      "Enter Second Number: 0\n",
      "except block print:ZeroDivisionError\n",
      "finally\n"
     ]
    }
   ],
   "source": [
    "# Case-2: If there is an exception raised but handled:\n",
    "\n",
    "try:\n",
    "    x=int(input(\"Enter First Number: \"))\n",
    "    y=int(input(\"Enter Second Number: \"))\n",
    "    print(x/y)\n",
    "except ZeroDivisionError:\n",
    "    print('except block print:ZeroDivisionError')\n",
    "finally:\n",
    "    print('finally')"
   ]
  },
  {
   "cell_type": "code",
   "execution_count": 51,
   "metadata": {},
   "outputs": [
    {
     "name": "stdout",
     "output_type": "stream",
     "text": [
      "try\n",
      "finally\n"
     ]
    },
    {
     "ename": "ZeroDivisionError",
     "evalue": "division by zero",
     "output_type": "error",
     "traceback": [
      "\u001b[0;31m---------------------------------------------------------------------------\u001b[0m",
      "\u001b[0;31mZeroDivisionError\u001b[0m                         Traceback (most recent call last)",
      "\u001b[0;32m<ipython-input-51-f4dfece6dda9>\u001b[0m in \u001b[0;36m<module>\u001b[0;34m\u001b[0m\n\u001b[1;32m      3\u001b[0m \u001b[0;32mtry\u001b[0m\u001b[0;34m:\u001b[0m\u001b[0;34m\u001b[0m\u001b[0;34m\u001b[0m\u001b[0m\n\u001b[1;32m      4\u001b[0m     \u001b[0mprint\u001b[0m\u001b[0;34m(\u001b[0m\u001b[0;34m\"try\"\u001b[0m\u001b[0;34m)\u001b[0m\u001b[0;34m\u001b[0m\u001b[0;34m\u001b[0m\u001b[0m\n\u001b[0;32m----> 5\u001b[0;31m     \u001b[0mprint\u001b[0m\u001b[0;34m(\u001b[0m\u001b[0;36m10\u001b[0m\u001b[0;34m/\u001b[0m\u001b[0;36m0\u001b[0m\u001b[0;34m)\u001b[0m\u001b[0;34m\u001b[0m\u001b[0;34m\u001b[0m\u001b[0m\n\u001b[0m\u001b[1;32m      6\u001b[0m \u001b[0;32mexcept\u001b[0m \u001b[0mNameError\u001b[0m\u001b[0;34m:\u001b[0m\u001b[0;34m\u001b[0m\u001b[0;34m\u001b[0m\u001b[0m\n\u001b[1;32m      7\u001b[0m     \u001b[0mprint\u001b[0m\u001b[0;34m(\u001b[0m\u001b[0;34m\"except\"\u001b[0m\u001b[0;34m)\u001b[0m\u001b[0;34m\u001b[0m\u001b[0;34m\u001b[0m\u001b[0m\n",
      "\u001b[0;31mZeroDivisionError\u001b[0m: division by zero"
     ]
    }
   ],
   "source": [
    "# Case-3: If there is an exception raised but not handled:\n",
    "\n",
    "try:\n",
    "    print(\"try\")\n",
    "    print(10/0)\n",
    "except NameError:\n",
    "    print(\"except\")\n",
    "finally:\n",
    "    print(\"finally\")"
   ]
  },
  {
   "cell_type": "code",
   "execution_count": 54,
   "metadata": {},
   "outputs": [],
   "source": [
    "# Control flow in try-except-finally:\n",
    "\n",
    "# Nested try-except-finally blocks:\n",
    "    \n",
    "# We can take try-except-finally blocks inside try or except or finally blocks.i.e nesting of try-\n",
    "# except-finally is possible.\n",
    "# try:\n",
    "#     ----------\n",
    "#     ----------\n",
    "#     ----------\n",
    "#     try:\n",
    "#     -------------\n",
    "#     --------------\n",
    "#     --------------\n",
    "#     except:\n",
    "#     --------------\n",
    "#     --------------\n",
    "#     --------------\n",
    "#     ------------\n",
    "# except:\n",
    "# -----------\n",
    "# -----------\n",
    "# -----------\n",
    "\n",
    "# General Risky code we have to take inside outer try block and too much risky code we\n",
    "# have to take inside inner try block. Inside Inner try block if an exception raised then inner\n",
    "# except block is responsible to handle. If it is unable to handle then outer except block is\n",
    "# responsible to handle.\n"
   ]
  },
  {
   "cell_type": "code",
   "execution_count": 56,
   "metadata": {},
   "outputs": [
    {
     "name": "stdout",
     "output_type": "stream",
     "text": [
      "outer try block\n",
      "inner try block\n",
      "inner except block \n",
      "inner finally block\n",
      "outer finally block\n"
     ]
    }
   ],
   "source": [
    "# eg:\n",
    "try:\n",
    "    print('outer try block')\n",
    "    try:\n",
    "        print('inner try block')\n",
    "        print(10/0)\n",
    "    except ZeroDivisionError:\n",
    "        print('inner except block ')\n",
    "    finally :\n",
    "        print('inner finally block')\n",
    "except:\n",
    "    print('outer execpt block')\n",
    "finally:\n",
    "    print(\"outer finally block\")"
   ]
  },
  {
   "cell_type": "code",
   "execution_count": 63,
   "metadata": {},
   "outputs": [
    {
     "name": "stdout",
     "output_type": "stream",
     "text": [
      "try\n",
      "except\n",
      "finally\n"
     ]
    }
   ],
   "source": [
    "# else block with try-except-finally:\n",
    "\n",
    "# We can use else block with try-except-finally blocks.\n",
    "# else block will be executed if and only if there are no exceptions inside try block.\n",
    "\n",
    "# try:\n",
    "#     Risky Code\n",
    "# except:\n",
    "#     will be executed if exception inside try\n",
    "# else:\n",
    "#     will be executed if there is no exception inside try\n",
    "# finally:\n",
    "#     will be executed whether exception raised or not raised and handled or not handled\n",
    "\n",
    "# eg:\n",
    "\n",
    "try:\n",
    "    print('try')\n",
    "    print(10/0)\n",
    "except:\n",
    "    print('except')\n",
    "else:\n",
    "    print('else')\n",
    "finally:\n",
    "    print('finally')\n",
    "    \n",
    "\n",
    "# If we comment line-1 then else block will be executed b'z there is no exception inside try.\n",
    "# In this case the output is:\n",
    "\n",
    "# try\n",
    "# else\n",
    "# finally\n",
    "\n",
    "# If we are not commenting line-1 then else block won't be executed b'z there is exception\n",
    "# inside try block. In this case output is:\n",
    "\n",
    "# try\n",
    "# except\n",
    "# finally"
   ]
  },
  {
   "cell_type": "code",
   "execution_count": 71,
   "metadata": {},
   "outputs": [
    {
     "name": "stdout",
     "output_type": "stream",
     "text": [
      "Enter age:10\n"
     ]
    },
    {
     "ename": "ToYoungException",
     "evalue": "Your age already crossed marriage age...no chance of getting marriage",
     "output_type": "error",
     "traceback": [
      "\u001b[0;31m---------------------------------------------------------------------------\u001b[0m",
      "\u001b[0;31mToYoungException\u001b[0m                          Traceback (most recent call last)",
      "\u001b[0;32m<ipython-input-71-add4fbeb1961>\u001b[0m in \u001b[0;36m<module>\u001b[0;34m\u001b[0m\n\u001b[1;32m     25\u001b[0m     \u001b[0;32mraise\u001b[0m \u001b[0mToYoungException\u001b[0m\u001b[0;34m(\u001b[0m\u001b[0;34m'Pls wait some more time you will get best match soon..!!'\u001b[0m\u001b[0;34m)\u001b[0m\u001b[0;34m\u001b[0m\u001b[0;34m\u001b[0m\u001b[0m\n\u001b[1;32m     26\u001b[0m \u001b[0;32melif\u001b[0m \u001b[0mage\u001b[0m\u001b[0;34m<\u001b[0m\u001b[0;36m18\u001b[0m\u001b[0;34m:\u001b[0m\u001b[0;34m\u001b[0m\u001b[0;34m\u001b[0m\u001b[0m\n\u001b[0;32m---> 27\u001b[0;31m      \u001b[0;32mraise\u001b[0m \u001b[0mToYoungException\u001b[0m\u001b[0;34m(\u001b[0m\u001b[0;34m'Your age already crossed marriage age...no chance of getting marriage'\u001b[0m\u001b[0;34m)\u001b[0m\u001b[0;34m\u001b[0m\u001b[0;34m\u001b[0m\u001b[0m\n\u001b[0m\u001b[1;32m     28\u001b[0m \u001b[0;32melse\u001b[0m\u001b[0;34m:\u001b[0m\u001b[0;34m\u001b[0m\u001b[0;34m\u001b[0m\u001b[0m\n\u001b[1;32m     29\u001b[0m     \u001b[0mprint\u001b[0m\u001b[0;34m(\u001b[0m\u001b[0;34m'you will get match details soon by email..!!'\u001b[0m\u001b[0;34m)\u001b[0m\u001b[0;34m\u001b[0m\u001b[0;34m\u001b[0m\u001b[0m\n",
      "\u001b[0;31mToYoungException\u001b[0m: Your age already crossed marriage age...no chance of getting marriage"
     ]
    }
   ],
   "source": [
    "# How to Define and Raise Customized Exceptions:\n",
    "\n",
    "# Every exception in Python is a class that extends Exception class either directly or\n",
    "# indirectly.\n",
    "\n",
    "# Syntax:\n",
    "# class classname(predefined exception class name):\n",
    "#     def __init__(self,arg):\n",
    "#         self.msg=arg\n",
    "\n",
    "# We can raise exception by using raise keyword as follows :\n",
    "\n",
    "# raise TooYoungException(\"message\")\n",
    "\n",
    "class ToYoungException(Exception):\n",
    "    def __init__(self,arg):\n",
    "        self.msg=arg\n",
    "        \n",
    "class ToOldException(Exception):\n",
    "    def __init__(self,arg):\n",
    "        self.msg=arg        \n",
    "        \n",
    "age=int(input(\"Enter age:\"))        \n",
    "if age>60:\n",
    "    raise ToYoungException('Pls wait some more time you will get best match soon..!!')\n",
    "elif age<18:\n",
    "     raise ToYoungException('Your age already crossed marriage age...no chance of getting marriage')            \n",
    "else:\n",
    "    print('you will get match details soon by email..!!')            "
   ]
  },
  {
   "cell_type": "markdown",
   "metadata": {},
   "source": [
    "# Logging the Exceptions:\n",
    "\n",
    "It is highly recommended to store complete application flow and exceptions information\n",
    "to a file. This process is called logging.\n",
    "\n",
    "The main advantages of logging are:\n",
    "\n",
    "1. We can use log files while performing debugging\n",
    "2. We can provide statistics like number of requests per day etc\n",
    "To implement logging, Python provides one inbuilt module logging.\n",
    "\n",
    "logging levels:\n",
    "\n",
    "1. CRITICAL==>50==>Represents a very serious problem that needs high attention\n",
    "2. ERROR===>40===>Represents a serious error\n",
    "3. WARNING==>30==>Represents a warning message, some caution needed. It is alert to\n",
    "the programmer\n",
    "4. INFO===>20===>Represents a message with some important information\n",
    "5. DEBUG===>10==>Represents a message with debugging information\n",
    "6. NOTSET==>0==>Rrepresents that the level is not set.\n",
    "\n",
    "How to implement logging:\n",
    "\n",
    "We can do this by using basicConfig() function of logging module. \n",
    "\n",
    "logging.basicConfig(filename='log.txt',level=logging.WARNING)\n",
    "\n",
    "logging.debug(message)\n",
    "\n",
    "logging.info(message)\n",
    "\n",
    "logging.warning(message)\n",
    "\n",
    "logging.error(message)\n",
    "\n",
    "logging.critical(message)"
   ]
  },
  {
   "cell_type": "code",
   "execution_count": 75,
   "metadata": {},
   "outputs": [
    {
     "name": "stdout",
     "output_type": "stream",
     "text": [
      "logging demo module\n"
     ]
    }
   ],
   "source": [
    "# Q.Write a Python program to create a log file and write WARNING and higher\n",
    "# level messages?\n",
    "\n",
    "import logging\n",
    "logging.basicConfig(filename='abc1.txt',level=logging.WARNING)\n",
    "print('logging demo module')\n",
    "logging.debug('this is debug message')\n",
    "logging.info('this is info message')\n",
    "logging.warning('this is warning message')\n",
    "logging.error('this is error message')\n",
    "logging.critical('this is critical message')"
   ]
  },
  {
   "cell_type": "code",
   "execution_count": 78,
   "metadata": {},
   "outputs": [
    {
     "name": "stdout",
     "output_type": "stream",
     "text": [
      "Logging Module Demo\n"
     ]
    }
   ],
   "source": [
    "import logging\n",
    "logging.basicConfig(filename='abc1.txt',level=logging.DEBUG)\n",
    "print(\"Logging Module Demo\")\n",
    "logging.debug(\"This is debug message\")\n",
    "logging.info(\"This is info message\")\n",
    "logging.warning(\"This is warning message\")\n",
    "logging.error(\"This is error message\")\n",
    "logging.critical(\"This is critical message\")"
   ]
  },
  {
   "cell_type": "code",
   "execution_count": 90,
   "metadata": {},
   "outputs": [
    {
     "name": "stdout",
     "output_type": "stream",
     "text": [
      "Enter First Number: 10\n",
      "Enter Second Number: 2\n",
      "5.0\n"
     ]
    }
   ],
   "source": [
    "# How to write Python program exceptions to the log file:\n",
    "\n",
    "# By using the following function we can write exceptions information to the log file.\n",
    "\n",
    "# logging.exception(msg)\n",
    "\n",
    "# Q. Python Program to write exception information to the log file\n",
    "# eg:\n",
    "import logging\n",
    "logging.basicConfig(filename='abc1.txt',level=logging.INFO)\n",
    "logging.info(\"A New request Came:\")\n",
    "try:\n",
    "    x=int(input(\"Enter First Number: \"))\n",
    "    y=int(input(\"Enter Second Number: \"))\n",
    "    print(x/y)\n",
    "except ZeroDivisionError as msg:\n",
    "    print(\"cannot divide with zero\")\n",
    "    logging.exception(msg)\n",
    "except ValueError as msg:\n",
    "    print(\"Enter only int values\")\n",
    "    logging.exception(msg)\n",
    "logging.info(\"Request Processing Completed\")    "
   ]
  },
  {
   "cell_type": "markdown",
   "metadata": {},
   "source": [
    "\n",
    "# PYTHON DEBUGGING BY USING ASSERTIONS"
   ]
  },
  {
   "cell_type": "markdown",
   "metadata": {},
   "source": [
    "# Debugging Python Program by using assert keyword:\n",
    "\n",
    "The process of identifying and fixing the bug is called debugging.\n",
    "Very common way of debugging is to use print() statement. But the problem with the\n",
    "print() statement is after fixing the bug,compulsory we have to delete the extra added\n",
    "print() statments,otherwise these will be executed at runtime which creates performance\n",
    "problems and disturbs console output.\n",
    "To overcome this problem we should go for assert statement. The main advantage of\n",
    "assert statement over print() statement is after fixing bug we are not required to delete\n",
    "assert statements. Based on our requirement we can enable or disable assert statements.\n",
    "Hence the main purpose of assertions is to perform debugging. Usully we can perform\n",
    "debugging either in development or in test environments but not in production\n",
    "environment. Hence assertions concept is applicable only for dev and test environments\n",
    "but not for production environment."
   ]
  },
  {
   "cell_type": "markdown",
   "metadata": {},
   "source": [
    "Types of assert statements:\n",
    "    \n",
    "There are 2 types of assert statements\n",
    "1. Simple Version\n",
    "2. Augmented Version\n",
    "1. Simple Version:\n",
    "assert conditional_expression\n",
    "2. Augmented Version:\n",
    "assert conditional_expression,message\n",
    "\n",
    "conditional_expression will be evaluated and if it is true then the program will be\n",
    "continued.\n",
    "If it is false then the program will be terminated by raising AssertionError.\n",
    "By seeing AssertionError, programmer can analyze the code and can fix the problem.\n"
   ]
  },
  {
   "cell_type": "code",
   "execution_count": 93,
   "metadata": {},
   "outputs": [
    {
     "ename": "AssertionError",
     "evalue": "the square of 3 should be 9",
     "output_type": "error",
     "traceback": [
      "\u001b[0;31m---------------------------------------------------------------------------\u001b[0m",
      "\u001b[0;31mAssertionError\u001b[0m                            Traceback (most recent call last)",
      "\u001b[0;32m<ipython-input-93-dbae9b0b557d>\u001b[0m in \u001b[0;36m<module>\u001b[0;34m\u001b[0m\n\u001b[1;32m      5\u001b[0m \u001b[0;34m\u001b[0m\u001b[0m\n\u001b[1;32m      6\u001b[0m \u001b[0;32massert\u001b[0m \u001b[0msquareit\u001b[0m\u001b[0;34m(\u001b[0m\u001b[0;36m2\u001b[0m\u001b[0;34m)\u001b[0m\u001b[0;34m==\u001b[0m\u001b[0;36m4\u001b[0m\u001b[0;34m,\u001b[0m\u001b[0;34m'the square of 2 should be 4'\u001b[0m\u001b[0;34m\u001b[0m\u001b[0;34m\u001b[0m\u001b[0m\n\u001b[0;32m----> 7\u001b[0;31m \u001b[0;32massert\u001b[0m \u001b[0msquareit\u001b[0m\u001b[0;34m(\u001b[0m\u001b[0;36m3\u001b[0m\u001b[0;34m)\u001b[0m\u001b[0;34m==\u001b[0m\u001b[0;36m9\u001b[0m\u001b[0;34m,\u001b[0m\u001b[0;34m'the square of 3 should be 9'\u001b[0m\u001b[0;34m\u001b[0m\u001b[0;34m\u001b[0m\u001b[0m\n\u001b[0m\u001b[1;32m      8\u001b[0m \u001b[0;32massert\u001b[0m \u001b[0msquareIt\u001b[0m\u001b[0;34m(\u001b[0m\u001b[0;36m4\u001b[0m\u001b[0;34m)\u001b[0m\u001b[0;34m==\u001b[0m\u001b[0;36m16\u001b[0m\u001b[0;34m,\u001b[0m\u001b[0;34m\"The square of 4 should be 16\"\u001b[0m\u001b[0;34m\u001b[0m\u001b[0;34m\u001b[0m\u001b[0m\n\u001b[1;32m      9\u001b[0m \u001b[0;34m\u001b[0m\u001b[0m\n",
      "\u001b[0;31mAssertionError\u001b[0m: the square of 3 should be 9"
     ]
    }
   ],
   "source": [
    "# eg:\n",
    "\n",
    "def squareit(x):\n",
    "    return x**x\n",
    "\n",
    "assert squareit(2)==4,'the square of 2 should be 4'\n",
    "assert squareit(3)==9,'the square of 3 should be 9'\n",
    "assert squareIt(4)==16,\"The square of 4 should be 16\"\n",
    "\n",
    "print(squareIt(2))\n",
    "print(squareIt(3))\n",
    "# print(squareIt(4))"
   ]
  },
  {
   "cell_type": "code",
   "execution_count": 96,
   "metadata": {},
   "outputs": [
    {
     "name": "stdout",
     "output_type": "stream",
     "text": [
      "4\n",
      "9\n",
      "16\n"
     ]
    }
   ],
   "source": [
    "def squareIt(x):\n",
    "    return x*x\n",
    "assert squareIt(2)==4,\"The square of 2 should be 4\"\n",
    "assert squareIt(3)==9,\"The square of 3 should be 9\"\n",
    "assert squareIt(4)==16,\"The square of 4 should be 16\"\n",
    "print(squareIt(2))\n",
    "print(squareIt(3))\n",
    "print(squareIt(4))\n",
    "\n",
    "# Exception Handling vs Assertions:\n",
    "# Assertions concept can be used to alert programmer to resolve development time errors.\n",
    "# Exception Handling can be used to handle runtime errors."
   ]
  }
 ],
 "metadata": {
  "kernelspec": {
   "display_name": "Python 3.6.9 64-bit",
   "language": "python",
   "name": "python36964bitf03a226a30e6463ab7aca1f43c95ae5f"
  },
  "language_info": {
   "codemirror_mode": {
    "name": "ipython",
    "version": 3
   },
   "file_extension": ".py",
   "mimetype": "text/x-python",
   "name": "python",
   "nbconvert_exporter": "python",
   "pygments_lexer": "ipython3",
   "version": "3.6.9"
  },
  "varInspector": {
   "cols": {
    "lenName": 16,
    "lenType": 16,
    "lenVar": 40
   },
   "kernels_config": {
    "python": {
     "delete_cmd_postfix": "",
     "delete_cmd_prefix": "del ",
     "library": "var_list.py",
     "varRefreshCmd": "print(var_dic_list())"
    },
    "r": {
     "delete_cmd_postfix": ") ",
     "delete_cmd_prefix": "rm(",
     "library": "var_list.r",
     "varRefreshCmd": "cat(var_dic_list()) "
    }
   },
   "types_to_exclude": [
    "module",
    "function",
    "builtin_function_or_method",
    "instance",
    "_Feature"
   ],
   "window_display": false
  }
 },
 "nbformat": 4,
 "nbformat_minor": 4
}

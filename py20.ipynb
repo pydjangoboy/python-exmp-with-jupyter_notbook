{
 "cells": [
  {
   "cell_type": "markdown",
   "metadata": {},
   "source": [
    "# List Data Structure"
   ]
  },
  {
   "cell_type": "code",
   "execution_count": 2,
   "metadata": {},
   "outputs": [
    {
     "name": "stdout",
     "output_type": "stream",
     "text": [
      "[0, 2, 4, 6, 8]\n",
      "<class 'list'>\n"
     ]
    }
   ],
   "source": [
    "# with list() function\n",
    "l=list(range(0,10,2))\n",
    "print(l)\n",
    "print(type(l))"
   ]
  },
  {
   "cell_type": "code",
   "execution_count": 2,
   "metadata": {},
   "outputs": [
    {
     "name": "stdout",
     "output_type": "stream",
     "text": [
      "['j', 'a', 'i']\n"
     ]
    }
   ],
   "source": [
    "s='jai'\n",
    "l=list(s)\n",
    "print(l)"
   ]
  },
  {
   "cell_type": "code",
   "execution_count": 5,
   "metadata": {},
   "outputs": [
    {
     "name": "stdout",
     "output_type": "stream",
     "text": [
      "['Learning', 'python', 'with', 'jai']\n"
     ]
    }
   ],
   "source": [
    "# with split functions\n",
    "s = 'Learning python with jai'\n",
    "l=s.split()\n",
    "print(l)"
   ]
  },
  {
   "cell_type": "code",
   "execution_count": 7,
   "metadata": {},
   "outputs": [
    {
     "name": "stdout",
     "output_type": "stream",
     "text": [
      "[1, 2, 3, 4, 5, 6, 7]\n",
      "[1, 2, 33, 4, 5, 6, 7]\n"
     ]
    }
   ],
   "source": [
    "l=[1,2,3,4,5,6,7]\n",
    "print(l)\n",
    "l[2]=33\n",
    "print(l)"
   ]
  },
  {
   "cell_type": "code",
   "execution_count": 10,
   "metadata": {},
   "outputs": [
    {
     "name": "stdout",
     "output_type": "stream",
     "text": [
      "0\n",
      "1\n",
      "2\n",
      "3\n",
      "4\n",
      "5\n",
      "6\n"
     ]
    }
   ],
   "source": [
    "# Traversing the elements of List:\n",
    "# 1. using while loop\n",
    "l=[1,2,3,4,5,6,7]\n",
    "i=0\n",
    "while i<len(l):\n",
    "    print(i)\n",
    "    i +=1"
   ]
  },
  {
   "cell_type": "code",
   "execution_count": 12,
   "metadata": {},
   "outputs": [
    {
     "name": "stdout",
     "output_type": "stream",
     "text": [
      "1\n",
      "2\n",
      "3\n",
      "4\n",
      "5\n",
      "6\n",
      "7\n"
     ]
    }
   ],
   "source": [
    "# 1. using for loop\n",
    "for i in l:\n",
    "    print(i)"
   ]
  },
  {
   "cell_type": "code",
   "execution_count": 14,
   "metadata": {},
   "outputs": [
    {
     "name": "stdout",
     "output_type": "stream",
     "text": [
      "a postive index: 0 and negativ index: -4\n",
      "b postive index: 1 and negativ index: -3\n",
      "c postive index: 2 and negativ index: -2\n",
      "d postive index: 3 and negativ index: -1\n"
     ]
    }
   ],
   "source": [
    "# to display element by index wise\n",
    "l = ['a','b','c','d']\n",
    "x = len(l)\n",
    "for i in range(x):\n",
    "    print(l[i],'postive index:',i,'and negativ index:',i-x)"
   ]
  },
  {
   "cell_type": "code",
   "execution_count": 16,
   "metadata": {},
   "outputs": [
    {
     "name": "stdout",
     "output_type": "stream",
     "text": [
      "7\n",
      "2\n",
      "1\n"
     ]
    }
   ],
   "source": [
    " # To get information about list:\n",
    "# 1. append() function:\n",
    "# 2. insert() function:\n",
    "# 3. extend() function:\n",
    "# 4. remove() function:\n",
    "# 5. pop() function:\n",
    "\n",
    "n=[10,20,30,40,40,30,20]\n",
    "print(len(n))\n",
    "print(n.count(40))\n",
    "print(n.index(20))\n"
   ]
  },
  {
   "cell_type": "code",
   "execution_count": 20,
   "metadata": {},
   "outputs": [
    {
     "name": "stdout",
     "output_type": "stream",
     "text": [
      "[22, 33, 'jai']\n"
     ]
    }
   ],
   "source": [
    "II. Manipulating elements of List:\n",
    "list =[]\n",
    "list.append(22)\n",
    "list.append(33)\n",
    "list.append('jai')\n",
    "print(list)"
   ]
  },
  {
   "cell_type": "code",
   "execution_count": 22,
   "metadata": {},
   "outputs": [
    {
     "name": "stdout",
     "output_type": "stream",
     "text": [
      "[0, 2, 4, 6, 8, 10, 12, 14, 16, 18, 20, 22, 24, 26, 28, 30, 32, 34, 36, 38, 40, 42, 44, 46, 48, 50, 52, 54, 56, 58, 60, 62, 64, 66, 68, 70, 72, 74, 76, 78, 80, 82, 84, 86, 88, 90, 92, 94, 96, 98, 100]\n"
     ]
    }
   ],
   "source": [
    "# To add all elements to list upto 100 which are divisible by 10\n",
    "l=[]\n",
    "for i in range(101):\n",
    "    if i%2==0:\n",
    "        l.append(i)\n",
    "print(l)"
   ]
  },
  {
   "cell_type": "code",
   "execution_count": 24,
   "metadata": {},
   "outputs": [
    {
     "name": "stdout",
     "output_type": "stream",
     "text": [
      "[1, 2, 33, 3, 4, 5, 6]\n",
      "[1, 2, 33, 3, 4, 5, 6, -1000]\n"
     ]
    }
   ],
   "source": [
    "n=[1,2,3,4,5,6]\n",
    "n.insert(2,33) #To insert item at specified index position\n",
    "print(n)\n",
    "n.insert(444,-1000)\n",
    "print(n)"
   ]
  },
  {
   "cell_type": "code",
   "execution_count": 26,
   "metadata": {},
   "outputs": [
    {
     "name": "stdout",
     "output_type": "stream",
     "text": [
      "['Chicken', 'Mutton', 'Fish', 'RC', 'KF', 'FO']\n",
      "['Chicken', 'Mutton', 'Fish', 'RC', 'KF', 'FO', 'k', 'a', 'l', 'i', 'f', 'l', 'o', 'w', 'e', 'r']\n"
     ]
    }
   ],
   "source": [
    "order1=[\"Chicken\",\"Mutton\",\"Fish\"]\n",
    "order2=[\"RC\",\"KF\",\"FO\"]\n",
    "order1.extend(order2) #To add all items of one list to another list\n",
    "print(order1)\n",
    "order1.extend(\"kaliflower\") # here add this one add in list one by one\n",
    "print(order1)"
   ]
  },
  {
   "cell_type": "code",
   "execution_count": 29,
   "metadata": {},
   "outputs": [
    {
     "name": "stdout",
     "output_type": "stream",
     "text": [
      "[10, 20, 30, 40]\n"
     ]
    }
   ],
   "source": [
    "n=[10,20,20,30,40]\n",
    "n.remove(20) #We can use this function to remove specified item from the list\n",
    "print(n)"
   ]
  },
  {
   "cell_type": "code",
   "execution_count": 31,
   "metadata": {},
   "outputs": [
    {
     "name": "stdout",
     "output_type": "stream",
     "text": [
      "10\n",
      "40\n",
      "[20, 20, 30]\n"
     ]
    }
   ],
   "source": [
    "# 5. pop() function:\n",
    "# It removes and returns the last element of the list.\n",
    "n=[10,20,20,30,40]\n",
    "print(n.pop(0))\n",
    "print(n.pop())\n",
    "print(n)"
   ]
  },
  {
   "cell_type": "code",
   "execution_count": 34,
   "metadata": {},
   "outputs": [
    {
     "name": "stdout",
     "output_type": "stream",
     "text": [
      "[40, 30, 20, 10]\n",
      "[10, 20, 30, 40, 50]\n"
     ]
    }
   ],
   "source": [
    "# III. Ordering elements of List:\n",
    "n=[10,20,30,40]\n",
    "n.reverse()\n",
    "print(n)\n",
    "n=[10,40,50,20,30]\n",
    "n.sort()\n",
    "print(n)"
   ]
  },
  {
   "cell_type": "code",
   "execution_count": 36,
   "metadata": {},
   "outputs": [
    {
     "name": "stdout",
     "output_type": "stream",
     "text": [
      "[10, 20, 30, 40, 50]\n",
      "[50, 40, 30, 20, 10]\n",
      "[10, 20, 30, 40, 50]\n"
     ]
    }
   ],
   "source": [
    "n=[10,20,50,40,30]\n",
    "n.sort()\n",
    "print(n)\n",
    "n.sort(reverse=True)\n",
    "print(n)\n",
    "n.sort(reverse=False)\n",
    "print(n)"
   ]
  },
  {
   "cell_type": "code",
   "execution_count": 38,
   "metadata": {
    "scrolled": true
   },
   "outputs": [
    {
     "name": "stdout",
     "output_type": "stream",
     "text": [
      "140130437224904\n",
      "140130437224904\n",
      "[333, 20, 50, 40, 30]\n",
      "140130437224904\n",
      "140130437224904\n"
     ]
    }
   ],
   "source": [
    "x=[10,20,50,40,30]\n",
    "y=x\n",
    "print(id(x))\n",
    "print(id(y))\n",
    "y[0]=333\n",
    "print(x)\n",
    "print(id(x))\n",
    "print(id(y))"
   ]
  },
  {
   "cell_type": "code",
   "execution_count": 41,
   "metadata": {},
   "outputs": [
    {
     "name": "stdout",
     "output_type": "stream",
     "text": [
      "[[10, 20, 30], [40, 50, 60], [70, 80, 90]]\n",
      "print element row wise\n",
      "[10, 20, 30]\n",
      "[40, 50, 60]\n",
      "[70, 80, 90]\n"
     ]
    }
   ],
   "source": [
    "#nested list as matrix\n",
    "n=[[10,20,30],[40,50,60],[70,80,90]]\n",
    "print(n)\n",
    "print('print element row wise')\n",
    "for i in n:\n",
    "    print(i)"
   ]
  },
  {
   "cell_type": "code",
   "execution_count": 43,
   "metadata": {},
   "outputs": [
    {
     "name": "stdout",
     "output_type": "stream",
     "text": [
      "Elements by Matrix style:\n",
      "10 20 30 \n",
      "40 50 60 \n",
      "70 80 90 \n"
     ]
    }
   ],
   "source": [
    "print(\"Elements by Matrix style:\")\n",
    "for i in range(len(n)):\n",
    "    for j in range(len(n[i])):\n",
    "        print(n[i][j],end=' ')\n",
    "    print()"
   ]
  },
  {
   "cell_type": "code",
   "execution_count": 45,
   "metadata": {},
   "outputs": [
    {
     "name": "stdout",
     "output_type": "stream",
     "text": [
      "[1, 4, 9, 16, 25, 36, 49, 64, 81, 100]\n"
     ]
    }
   ],
   "source": [
    "# List comprehensions:\n",
    "# only work on thes type of data types :list,tuple,dictionary,range\n",
    "lc=[i*i for i in range(1,11)]\n",
    "print(lc)"
   ]
  },
  {
   "cell_type": "code",
   "execution_count": 47,
   "metadata": {},
   "outputs": [
    {
     "name": "stdout",
     "output_type": "stream",
     "text": [
      "['j', 'j', 'c']\n"
     ]
    }
   ],
   "source": [
    "words = ['jai','jaya','chaya']\n",
    "lc=[w[0] for w in words]\n",
    "print(lc)"
   ]
  },
  {
   "cell_type": "code",
   "execution_count": 49,
   "metadata": {},
   "outputs": [
    {
     "name": "stdout",
     "output_type": "stream",
     "text": [
      "[1, 2]\n",
      "[3, 4]\n"
     ]
    }
   ],
   "source": [
    "num1=[1,2,3,4]\n",
    "num2=[3,4,5,6]\n",
    "lc=[i for i in num1 if i not in num2]\n",
    "print(lc)\n",
    "num4=[i for i in num1 if i in num2]\n",
    "print(num4)"
   ]
  },
  {
   "cell_type": "code",
   "execution_count": 51,
   "metadata": {},
   "outputs": [
    {
     "name": "stdout",
     "output_type": "stream",
     "text": [
      "[['JAI', 3, 'Jai'], ['JAYA', 4, 'Jaya'], ['CHAYA', 5, 'Chaya']]\n"
     ]
    }
   ],
   "source": [
    "words = ['jai','jaya','chaya']\n",
    "lc = [[w.upper(),len(w),w.title()] for w in words]\n",
    "print(lc)"
   ]
  },
  {
   "cell_type": "markdown",
   "metadata": {},
   "source": [
    "# Tuple Data Structure"
   ]
  },
  {
   "cell_type": "code",
   "execution_count": 54,
   "metadata": {
    "scrolled": true
   },
   "outputs": [
    {
     "name": "stdout",
     "output_type": "stream",
     "text": [
      "(10, 20, 30, 40)\n",
      "<class 'tuple'>\n"
     ]
    }
   ],
   "source": [
    "t=10,20,30,40\n",
    "print(t)\n",
    "print(type(t))"
   ]
  },
  {
   "cell_type": "markdown",
   "metadata": {},
   "source": [
    "### Note: We have to take special care about single valued tuple.compulsary the value should ends with comma,otherwise it is not treated as tuple."
   ]
  },
  {
   "cell_type": "code",
   "execution_count": 61,
   "metadata": {},
   "outputs": [
    {
     "name": "stdout",
     "output_type": "stream",
     "text": [
      "10\n",
      "<class 'int'>\n"
     ]
    }
   ],
   "source": [
    "t=(10)\n",
    "print(t)\n",
    "print(type(t))"
   ]
  },
  {
   "cell_type": "code",
   "execution_count": 65,
   "metadata": {},
   "outputs": [
    {
     "name": "stdout",
     "output_type": "stream",
     "text": [
      "(10, 20, 30)\n",
      "<class 'tuple'>\n",
      "(10, 12, 14, 16, 18)\n"
     ]
    }
   ],
   "source": [
    "# By using tuple() function:\n",
    "list = [10,20,30]\n",
    "t=tuple(list)\n",
    "print(t)\n",
    "print(type(t))\n",
    "\n",
    "t = tuple(range(10,20,2))\n",
    "print(t)"
   ]
  },
  {
   "cell_type": "code",
   "execution_count": 70,
   "metadata": {},
   "outputs": [
    {
     "name": "stdout",
     "output_type": "stream",
     "text": [
      "10\n",
      "40\n"
     ]
    },
    {
     "ename": "IndexError",
     "evalue": "tuple index out of range",
     "output_type": "error",
     "traceback": [
      "\u001b[0;31m---------------------------------------------------------------------------\u001b[0m",
      "\u001b[0;31mIndexError\u001b[0m                                Traceback (most recent call last)",
      "\u001b[0;32m<ipython-input-70-46472105571c>\u001b[0m in \u001b[0;36m<module>\u001b[0;34m\u001b[0m\n\u001b[1;32m      4\u001b[0m \u001b[0mprint\u001b[0m\u001b[0;34m(\u001b[0m\u001b[0mt\u001b[0m\u001b[0;34m[\u001b[0m\u001b[0;36m0\u001b[0m\u001b[0;34m]\u001b[0m\u001b[0;34m)\u001b[0m\u001b[0;34m\u001b[0m\u001b[0;34m\u001b[0m\u001b[0m\n\u001b[1;32m      5\u001b[0m \u001b[0mprint\u001b[0m\u001b[0;34m(\u001b[0m\u001b[0mt\u001b[0m\u001b[0;34m[\u001b[0m\u001b[0;34m-\u001b[0m\u001b[0;36m1\u001b[0m\u001b[0;34m]\u001b[0m\u001b[0;34m)\u001b[0m\u001b[0;34m\u001b[0m\u001b[0;34m\u001b[0m\u001b[0m\n\u001b[0;32m----> 6\u001b[0;31m \u001b[0mprint\u001b[0m\u001b[0;34m(\u001b[0m\u001b[0mt\u001b[0m\u001b[0;34m[\u001b[0m\u001b[0;36m100\u001b[0m\u001b[0;34m]\u001b[0m\u001b[0;34m)\u001b[0m\u001b[0;34m\u001b[0m\u001b[0;34m\u001b[0m\u001b[0m\n\u001b[0m",
      "\u001b[0;31mIndexError\u001b[0m: tuple index out of range"
     ]
    }
   ],
   "source": [
    "# Accessing elements of tuple\n",
    "# By using index:\n",
    "t=(10,20,30,40)\n",
    "print(t[0])\n",
    "print(t[-1])\n",
    "print(t[100])"
   ]
  },
  {
   "cell_type": "code",
   "execution_count": 74,
   "metadata": {},
   "outputs": [
    {
     "name": "stdout",
     "output_type": "stream",
     "text": [
      "(30, 40, 50)\n",
      "(30, 40, 50, 60)\n",
      "(10, 30, 50)\n"
     ]
    }
   ],
   "source": [
    "t=(10,20,30,40,50,60)\n",
    "print(t[2:5])\n",
    "print(t[2:100])\n",
    "print(t[::2])"
   ]
  },
  {
   "cell_type": "code",
   "execution_count": 75,
   "metadata": {
    "scrolled": true
   },
   "outputs": [
    {
     "ename": "TypeError",
     "evalue": "'tuple' object does not support item assignment",
     "output_type": "error",
     "traceback": [
      "\u001b[0;31m---------------------------------------------------------------------------\u001b[0m",
      "\u001b[0;31mTypeError\u001b[0m                                 Traceback (most recent call last)",
      "\u001b[0;32m<ipython-input-75-5f8604db70d5>\u001b[0m in \u001b[0;36m<module>\u001b[0;34m\u001b[0m\n\u001b[1;32m      1\u001b[0m \u001b[0;31m# Tuple vs immutability:\u001b[0m\u001b[0;34m\u001b[0m\u001b[0;34m\u001b[0m\u001b[0;34m\u001b[0m\u001b[0m\n\u001b[1;32m      2\u001b[0m \u001b[0mt\u001b[0m\u001b[0;34m=\u001b[0m\u001b[0;34m(\u001b[0m\u001b[0;36m10\u001b[0m\u001b[0;34m,\u001b[0m\u001b[0;36m20\u001b[0m\u001b[0;34m,\u001b[0m\u001b[0;36m30\u001b[0m\u001b[0;34m,\u001b[0m\u001b[0;36m40\u001b[0m\u001b[0;34m)\u001b[0m\u001b[0;34m\u001b[0m\u001b[0;34m\u001b[0m\u001b[0m\n\u001b[0;32m----> 3\u001b[0;31m \u001b[0mt\u001b[0m\u001b[0;34m[\u001b[0m\u001b[0;36m0\u001b[0m\u001b[0;34m]\u001b[0m\u001b[0;34m=\u001b[0m\u001b[0;36m50\u001b[0m\u001b[0;34m\u001b[0m\u001b[0;34m\u001b[0m\u001b[0m\n\u001b[0m\u001b[1;32m      4\u001b[0m \u001b[0mprint\u001b[0m\u001b[0;34m(\u001b[0m\u001b[0mt\u001b[0m\u001b[0;34m)\u001b[0m\u001b[0;34m\u001b[0m\u001b[0;34m\u001b[0m\u001b[0m\n",
      "\u001b[0;31mTypeError\u001b[0m: 'tuple' object does not support item assignment"
     ]
    }
   ],
   "source": [
    "# Tuple vs immutability:\n",
    "t=(10,20,30,40)\n",
    "t[0]=50\n",
    "print(t)"
   ]
  },
  {
   "cell_type": "code",
   "execution_count": 1,
   "metadata": {},
   "outputs": [
    {
     "name": "stdout",
     "output_type": "stream",
     "text": [
      "(10, 20, 30, 40, 50, 60)\n",
      "(10, 20, 30, 10, 20, 30, 10, 20, 30)\n",
      "[40, 30, 20, 10]\n"
     ]
    }
   ],
   "source": [
    "# Mathematical operators for tuple:\n",
    "t1=(10,20,30)\n",
    "t2=(40,50,60)\n",
    "t3=t1+t2\n",
    "print(t3)\n",
    "\n",
    "t4=t1*3\n",
    "print(t4)\n",
    "\n",
    "t5=(10,20,30,40)\n",
    "print(sorted(t5,reverse=True))\n"
   ]
  },
  {
   "cell_type": "markdown",
   "metadata": {},
   "source": [
    "# Important functions of Tuple:\n",
    "1. len()\n",
    "To return number of elements present in the tuple\n",
    "2. count()\n",
    "To return number of occurrences of given element in the tuple\n",
    "3. index()\n",
    "returns index of first occurrence of the given element.\n",
    "4. sorted()\n",
    "To sort elements based on default natural sorting order\n",
    "5. min() and max() functions:t\n",
    "To find max and min between two numbers.\n"
   ]
  },
  {
   "cell_type": "code",
   "execution_count": 2,
   "metadata": {},
   "outputs": [
    {
     "name": "stdout",
     "output_type": "stream",
     "text": [
      "4\n"
     ]
    }
   ],
   "source": [
    "t=(10,120,30,40)\n",
    "print(len(t))"
   ]
  },
  {
   "cell_type": "code",
   "execution_count": 6,
   "metadata": {},
   "outputs": [
    {
     "name": "stdout",
     "output_type": "stream",
     "text": [
      "1\n"
     ]
    }
   ],
   "source": [
    "t=(10,120,30,40)\n",
    "print(t.count(40))"
   ]
  },
  {
   "cell_type": "code",
   "execution_count": 8,
   "metadata": {},
   "outputs": [
    {
     "name": "stdout",
     "output_type": "stream",
     "text": [
      "2\n"
     ]
    }
   ],
   "source": [
    "t=(10,120,30,40)\n",
    "print(t.index(30))"
   ]
  },
  {
   "cell_type": "code",
   "execution_count": 12,
   "metadata": {},
   "outputs": [
    {
     "name": "stdout",
     "output_type": "stream",
     "text": [
      "[10, 30, 40, 120]\n"
     ]
    }
   ],
   "source": [
    "t=(10,120,30,40)\n",
    "print(sorted(t,reverse=False))"
   ]
  },
  {
   "cell_type": "code",
   "execution_count": 14,
   "metadata": {},
   "outputs": [
    {
     "name": "stdout",
     "output_type": "stream",
     "text": [
      "max values 120 min values 10\n"
     ]
    }
   ],
   "source": [
    "t=(10,120,30,40)\n",
    "print('max values',max(t),'min values',min(t))"
   ]
  },
  {
   "cell_type": "markdown",
   "metadata": {},
   "source": [
    "# ##Tuple Packing and Unpacking:"
   ]
  },
  {
   "cell_type": "code",
   "execution_count": 18,
   "metadata": {},
   "outputs": [
    {
     "name": "stdout",
     "output_type": "stream",
     "text": [
      "(10, 20, 30, 40)\n"
     ]
    }
   ],
   "source": [
    "a,b,c,d=10,20,30,40\n",
    "t=a,b,c,d\n",
    "print(t) #Here a,b,c,d are packed into a tuple t. This is nothing but tuple packing."
   ]
  },
  {
   "cell_type": "code",
   "execution_count": 22,
   "metadata": {},
   "outputs": [
    {
     "name": "stdout",
     "output_type": "stream",
     "text": [
      "10 20 30 40\n"
     ]
    }
   ],
   "source": [
    "#Tuple unpacking is the reverse process of tuple packing\n",
    "#We can unpack a tuple and assign its values to different variables\n",
    "t=(10,20,30,40)\n",
    "a,b,c,d=t\n",
    "print(a,b,c,d)\n",
    "# Note: At the time of tuple unpacking the number of variables and number of values\n",
    "# should be same.\n",
    "# ,otherwise we will get ValueError"
   ]
  },
  {
   "cell_type": "code",
   "execution_count": 24,
   "metadata": {},
   "outputs": [
    {
     "ename": "ValueError",
     "evalue": "too many values to unpack (expected 3)",
     "output_type": "error",
     "traceback": [
      "\u001b[0;31m---------------------------------------------------------------------------\u001b[0m",
      "\u001b[0;31mValueError\u001b[0m                                Traceback (most recent call last)",
      "\u001b[0;32m<ipython-input-24-c13fd3a63556>\u001b[0m in \u001b[0;36m<module>\u001b[0;34m\u001b[0m\n\u001b[1;32m      1\u001b[0m \u001b[0mt\u001b[0m\u001b[0;34m=\u001b[0m\u001b[0;34m(\u001b[0m\u001b[0;36m10\u001b[0m\u001b[0;34m,\u001b[0m\u001b[0;36m20\u001b[0m\u001b[0;34m,\u001b[0m\u001b[0;36m30\u001b[0m\u001b[0;34m,\u001b[0m\u001b[0;36m40\u001b[0m\u001b[0;34m)\u001b[0m\u001b[0;34m\u001b[0m\u001b[0;34m\u001b[0m\u001b[0m\n\u001b[0;32m----> 2\u001b[0;31m \u001b[0ma\u001b[0m\u001b[0;34m,\u001b[0m\u001b[0mb\u001b[0m\u001b[0;34m,\u001b[0m\u001b[0mc\u001b[0m\u001b[0;34m=\u001b[0m\u001b[0mt\u001b[0m\u001b[0;34m\u001b[0m\u001b[0;34m\u001b[0m\u001b[0m\n\u001b[0m\u001b[1;32m      3\u001b[0m \u001b[0mprint\u001b[0m\u001b[0;34m(\u001b[0m\u001b[0ma\u001b[0m\u001b[0;34m,\u001b[0m\u001b[0mb\u001b[0m\u001b[0;34m,\u001b[0m\u001b[0mc\u001b[0m\u001b[0;34m)\u001b[0m\u001b[0;34m\u001b[0m\u001b[0;34m\u001b[0m\u001b[0m\n",
      "\u001b[0;31mValueError\u001b[0m: too many values to unpack (expected 3)"
     ]
    }
   ],
   "source": [
    "t=(10,20,30,40)\n",
    "a,b,c=t\n",
    "print(a,b,c)"
   ]
  },
  {
   "cell_type": "code",
   "execution_count": 28,
   "metadata": {},
   "outputs": [
    {
     "name": "stdout",
     "output_type": "stream",
     "text": [
      "<class 'generator'>\n",
      "1\n",
      "4\n",
      "9\n",
      "16\n",
      "25\n"
     ]
    }
   ],
   "source": [
    "# Tuple Comprehension:\n",
    "# Tuple Comprehension is not supported by Python.\n",
    "t=(i**2 for i in range(1,6))\n",
    "print(type(t))\n",
    "for x in t:\n",
    "    print(x)"
   ]
  },
  {
   "cell_type": "code",
   "execution_count": 34,
   "metadata": {
    "code_folding": []
   },
   "outputs": [
    {
     "name": "stdout",
     "output_type": "stream",
     "text": [
      "Enter tuple any no of range:(10,20,30,40)\n",
      "Sum of no: 100 and average is : 25.0\n"
     ]
    }
   ],
   "source": [
    "# Wap to take a input as tuple form the keyboard and print sum and avg \n",
    "t=eval(input('Enter tuple any no of range:'))\n",
    "l1=len(t)\n",
    "sum=0\n",
    "for i in t:\n",
    "    sum += i\n",
    "avg=sum/l1\n",
    "print('Sum of no:',sum,'and average is :',avg)\n"
   ]
  },
  {
   "cell_type": "markdown",
   "metadata": {},
   "source": [
    "# Set Data Structure"
   ]
  },
  {
   "cell_type": "code",
   "execution_count": 37,
   "metadata": {},
   "outputs": [
    {
     "name": "stdout",
     "output_type": "stream",
     "text": [
      "{40, 10, 20, 30}\n",
      "<class 'set'>\n"
     ]
    }
   ],
   "source": [
    "# Creation of Set objects:\n",
    "s={10,20,30,40}\n",
    "print(s)\n",
    "print(type(s))"
   ]
  },
  {
   "cell_type": "code",
   "execution_count": 39,
   "metadata": {},
   "outputs": [
    {
     "name": "stdout",
     "output_type": "stream",
     "text": [
      "{40, 10, 20, 30}\n",
      "<class 'set'>\n"
     ]
    }
   ],
   "source": [
    "l=[10,20,30,40]\n",
    "l1=set(l)\n",
    "print(s)\n",
    "print(type(l1))"
   ]
  },
  {
   "cell_type": "code",
   "execution_count": 41,
   "metadata": {},
   "outputs": [
    {
     "name": "stdout",
     "output_type": "stream",
     "text": [
      "[10, 203, 4, 30, 4]\n",
      "<class 'list'>\n",
      "(10, 203, 4, 30, 4)\n",
      "<class 'tuple'>\n",
      "{10, 203, 4, 30}\n",
      "<class 'set'>\n"
     ]
    }
   ],
   "source": [
    "# just for checking purpose list,tuple,set dict\n",
    "l=10,203,4,30,4\n",
    "l1=list(l)\n",
    "print(l1)\n",
    "print(type(l1))\n",
    "'''----------------------------'''\n",
    "l=10,203,4,30,4\n",
    "l1=tuple(l)\n",
    "print(l1)\n",
    "print(type(l1))\n",
    "'''----------------------------'''\n",
    "l=10,203,4,30,4\n",
    "l1=set(l)\n",
    "print(l1)\n",
    "print(type(l1))"
   ]
  },
  {
   "cell_type": "code",
   "execution_count": 50,
   "metadata": {},
   "outputs": [
    {
     "name": "stdout",
     "output_type": "stream",
     "text": [
      "{1, 2, 3, 4, 5, 6, 7, 8, 9}\n"
     ]
    }
   ],
   "source": [
    "s=set(range(1,10))\n",
    "print(s)"
   ]
  },
  {
   "cell_type": "code",
   "execution_count": 52,
   "metadata": {},
   "outputs": [
    {
     "name": "stdout",
     "output_type": "stream",
     "text": [
      "{}\n",
      "<class 'dict'>\n"
     ]
    }
   ],
   "source": [
    "s={}\n",
    "print(s)\n",
    "print(type(s)) #s={} ==>It is always consider as dictionary but not empty set."
   ]
  },
  {
   "cell_type": "code",
   "execution_count": 63,
   "metadata": {},
   "outputs": [
    {
     "name": "stdout",
     "output_type": "stream",
     "text": [
      "{40, 10, 20, 60, 30} and it's type: <class 'set'>\n"
     ]
    }
   ],
   "source": [
    "# Important functions of set:\n",
    "s={10,20,30,40}\n",
    "s.add(60)\n",
    "print(s,\"and it's type:\",type(s))"
   ]
  },
  {
   "cell_type": "code",
   "execution_count": 67,
   "metadata": {},
   "outputs": [
    {
     "name": "stdout",
     "output_type": "stream",
     "text": [
      "{40, 10, 50, 20, 60, 30}\n"
     ]
    }
   ],
   "source": [
    "s={10,20,30}\n",
    "l=[40,50,60,10]\n",
    "s.update(l)\n",
    "print(s)"
   ]
  },
  {
   "cell_type": "code",
   "execution_count": 69,
   "metadata": {},
   "outputs": [
    {
     "name": "stdout",
     "output_type": "stream",
     "text": [
      "{10, 20, 30}\n",
      "{10, 20, 30}\n"
     ]
    }
   ],
   "source": [
    "s={10,20,30}\n",
    "s1=s.copy()\n",
    "print(s)\n",
    "print(s1)"
   ]
  },
  {
   "cell_type": "code",
   "execution_count": 76,
   "metadata": {},
   "outputs": [
    {
     "name": "stdout",
     "output_type": "stream",
     "text": [
      "{10, 20, 30}\n",
      "10\n",
      "{20, 30}\n"
     ]
    }
   ],
   "source": [
    "# 4. pop():\n",
    "# It removes and returns some random element from the set.\n",
    "s={10,20,30}\n",
    "print(s)\n",
    "print(s.pop())\n",
    "print(s)"
   ]
  },
  {
   "cell_type": "code",
   "execution_count": 79,
   "metadata": {},
   "outputs": [
    {
     "name": "stdout",
     "output_type": "stream",
     "text": [
      "{10, 20}\n"
     ]
    },
    {
     "ename": "TypeError",
     "evalue": "'set' object does not support indexing",
     "output_type": "error",
     "traceback": [
      "\u001b[0;31m---------------------------------------------------------------------------\u001b[0m",
      "\u001b[0;31mTypeError\u001b[0m                                 Traceback (most recent call last)",
      "\u001b[0;32m<ipython-input-79-98edc9857055>\u001b[0m in \u001b[0;36m<module>\u001b[0;34m\u001b[0m\n\u001b[1;32m      3\u001b[0m \u001b[0ms\u001b[0m\u001b[0;34m.\u001b[0m\u001b[0mremove\u001b[0m\u001b[0;34m(\u001b[0m\u001b[0;36m30\u001b[0m\u001b[0;34m)\u001b[0m\u001b[0;34m\u001b[0m\u001b[0;34m\u001b[0m\u001b[0m\n\u001b[1;32m      4\u001b[0m \u001b[0mprint\u001b[0m\u001b[0;34m(\u001b[0m\u001b[0ms\u001b[0m\u001b[0;34m)\u001b[0m\u001b[0;34m\u001b[0m\u001b[0;34m\u001b[0m\u001b[0m\n\u001b[0;32m----> 5\u001b[0;31m \u001b[0ms\u001b[0m\u001b[0;34m.\u001b[0m\u001b[0mremove\u001b[0m\u001b[0;34m(\u001b[0m\u001b[0ms\u001b[0m\u001b[0;34m[\u001b[0m\u001b[0;36m1\u001b[0m\u001b[0;34m]\u001b[0m\u001b[0;34m)\u001b[0m\u001b[0;34m\u001b[0m\u001b[0;34m\u001b[0m\u001b[0m\n\u001b[0m\u001b[1;32m      6\u001b[0m \u001b[0mprint\u001b[0m\u001b[0;34m(\u001b[0m\u001b[0ms\u001b[0m\u001b[0;34m)\u001b[0m\u001b[0;34m\u001b[0m\u001b[0;34m\u001b[0m\u001b[0m\n",
      "\u001b[0;31mTypeError\u001b[0m: 'set' object does not support indexing"
     ]
    }
   ],
   "source": [
    "# 5. remove(x): It removes specified element from the set.\n",
    "s={10, 20, 30}\n",
    "s.remove(30)\n",
    "print(s)\n",
    "s.remove(s[1])\n",
    "print(s)"
   ]
  },
  {
   "cell_type": "code",
   "execution_count": 84,
   "metadata": {},
   "outputs": [
    {
     "name": "stdout",
     "output_type": "stream",
     "text": [
      "{40, 10, 20, 30}\n",
      "{40, 10, 20, 30}\n",
      "{40, 10, 30}\n"
     ]
    }
   ],
   "source": [
    "# # 6. discard(x):\n",
    "# t removes the specified element from the set.\n",
    "# If the specified element not present in the set then we won't get any error but remove get error's.\n",
    "s={10,20,30,40}\n",
    "print(s)\n",
    "s.discard(50)\n",
    "print(s)\n",
    "s.discard(20)\n",
    "print(s)\n"
   ]
  },
  {
   "cell_type": "code",
   "execution_count": 86,
   "metadata": {},
   "outputs": [
    {
     "name": "stdout",
     "output_type": "stream",
     "text": [
      "{10, 20, 30}\n",
      "set()\n"
     ]
    }
   ],
   "source": [
    "# 7.clear():\n",
    "# To remove all elements from the Set.\n",
    "s={10,20,30}\n",
    "print(s)\n",
    "s.clear()\n",
    "print(s)"
   ]
  },
  {
   "cell_type": "code",
   "execution_count": 89,
   "metadata": {},
   "outputs": [
    {
     "name": "stdout",
     "output_type": "stream",
     "text": [
      "{40, 10, 50, 20, 60, 30}\n",
      "{40, 10, 50, 20, 60, 30}\n"
     ]
    }
   ],
   "source": [
    "# # Mathematical operations on the Set\n",
    "# x.union(y) ==>We can use this function to return all elements present in both sets\n",
    "# x.union(y) or  x|y\n",
    "x={10,20,30,40}\n",
    "y={30,40,50,60}\n",
    "print(x.union(y))\n",
    "print(x|y)"
   ]
  },
  {
   "cell_type": "code",
   "execution_count": 91,
   "metadata": {},
   "outputs": [
    {
     "name": "stdout",
     "output_type": "stream",
     "text": [
      "{40, 30}\n",
      "{40, 30}\n"
     ]
    }
   ],
   "source": [
    "# 2. intersection():\n",
    "# x.intersection(y) or x&y\n",
    "# Returns common elements present in both x and y\n",
    "x={10,20,30,40}\n",
    "y={30,40,50,60}\n",
    "print(x.intersection(y))\n",
    "print(x&y)"
   ]
  },
  {
   "cell_type": "code",
   "execution_count": 94,
   "metadata": {},
   "outputs": [
    {
     "name": "stdout",
     "output_type": "stream",
     "text": [
      "{10, 20}\n",
      "{10, 20}\n",
      "{50, 60}\n"
     ]
    }
   ],
   "source": [
    "# 3. difference():\n",
    "# x.difference(y) or x-y\n",
    "# returns the elements present in x but not in y\n",
    "x={10,20,30,40}\n",
    "y={30,40,50,60}\n",
    "print(x.difference(y))\n",
    "print(x-y)\n",
    "print(y-x)"
   ]
  },
  {
   "cell_type": "code",
   "execution_count": 96,
   "metadata": {},
   "outputs": [
    {
     "name": "stdout",
     "output_type": "stream",
     "text": [
      "{10, 50, 20, 60}\n",
      "{10, 50, 20, 60}\n",
      "{10, 50, 20, 60}\n"
     ]
    }
   ],
   "source": [
    "# 4.symmetric_difference():\n",
    "# x.symmetric_difference(y) or x^y\n",
    "# Returns elements present in either x or y but not in both\n",
    "x={10,20,30,40}\n",
    "y={30,40,50,60}\n",
    "print(x.symmetric_difference(y))\n",
    "print(x^y)\n",
    "print(y^x)"
   ]
  },
  {
   "cell_type": "code",
   "execution_count": 98,
   "metadata": {},
   "outputs": [
    {
     "name": "stdout",
     "output_type": "stream",
     "text": [
      "{'a', 'm', 'y'}\n",
      "True\n",
      "False\n"
     ]
    }
   ],
   "source": [
    "# Membership operators: (in , not in)\n",
    "s=set(\"maya\")\n",
    "print(s)\n",
    "print('y' in s)\n",
    "print('z' in s)"
   ]
  },
  {
   "cell_type": "code",
   "execution_count": 100,
   "metadata": {},
   "outputs": [
    {
     "ename": "TypeError",
     "evalue": "'set' object does not support item assignment",
     "output_type": "error",
     "traceback": [
      "\u001b[0;31m---------------------------------------------------------------------------\u001b[0m",
      "\u001b[0;31mTypeError\u001b[0m                                 Traceback (most recent call last)",
      "\u001b[0;32m<ipython-input-100-71f2306bca08>\u001b[0m in \u001b[0;36m<module>\u001b[0;34m\u001b[0m\n\u001b[1;32m      1\u001b[0m \u001b[0ms\u001b[0m\u001b[0;34m=\u001b[0m\u001b[0;34m{\u001b[0m\u001b[0;36m10\u001b[0m\u001b[0;34m,\u001b[0m \u001b[0;36m50\u001b[0m\u001b[0;34m,\u001b[0m \u001b[0;36m20\u001b[0m\u001b[0;34m,\u001b[0m \u001b[0;36m60\u001b[0m\u001b[0;34m}\u001b[0m\u001b[0;34m\u001b[0m\u001b[0;34m\u001b[0m\u001b[0m\n\u001b[0;32m----> 2\u001b[0;31m \u001b[0ms\u001b[0m\u001b[0;34m[\u001b[0m\u001b[0;36m0\u001b[0m\u001b[0;34m]\u001b[0m\u001b[0;34m=\u001b[0m\u001b[0;36m50\u001b[0m\u001b[0;34m\u001b[0m\u001b[0;34m\u001b[0m\u001b[0m\n\u001b[0m\u001b[1;32m      3\u001b[0m \u001b[0mprint\u001b[0m\u001b[0;34m(\u001b[0m\u001b[0ms\u001b[0m\u001b[0;34m)\u001b[0m\u001b[0;34m\u001b[0m\u001b[0;34m\u001b[0m\u001b[0m\n",
      "\u001b[0;31mTypeError\u001b[0m: 'set' object does not support item assignment"
     ]
    }
   ],
   "source": [
    "s={10, 50, 20, 60}\n",
    "s[0]=50\n",
    "print(s)"
   ]
  },
  {
   "cell_type": "code",
   "execution_count": 104,
   "metadata": {},
   "outputs": [
    {
     "name": "stdout",
     "output_type": "stream",
     "text": [
      "{32, 2, 34, 4, 36, 6, 38, 8, 10, 12, 14, 16, 18, 20, 22, 24, 26, 28, 30}\n"
     ]
    }
   ],
   "source": [
    "# Set Comprehension:\n",
    "s={i*2 for i in range(1,20)}\n",
    "print(s)"
   ]
  },
  {
   "cell_type": "code",
   "execution_count": 108,
   "metadata": {},
   "outputs": [
    {
     "name": "stdout",
     "output_type": "stream",
     "text": [
      "Enter List of values: 10,20,102,301,10,20,\n",
      "{10, 20, 301, 102}\n"
     ]
    }
   ],
   "source": [
    "## Note : set objects won't support indexing and slicing\n",
    "\n",
    "# Q.Write a program to remove duplicates elements present in the list?\n",
    "l=eval(input(\"Enter List of values: \"))\n",
    "s=set(l)\n",
    "print(s)"
   ]
  },
  {
   "cell_type": "code",
   "execution_count": 7,
   "metadata": {},
   "outputs": [
    {
     "name": "stdout",
     "output_type": "stream",
     "text": [
      "Enter List of values: 10,20,40,50,10,20,30\n",
      "[10, 20, 40, 50, 30]\n"
     ]
    }
   ],
   "source": [
    "# second method for removing duplicate elements from list and set anythings\n",
    "l=eval(input(\"Enter List of values: \"))\n",
    "l1=[]\n",
    "for i in l:\n",
    "    if i not in l1:\n",
    "        l1.append(i)\n",
    "print(l1)        "
   ]
  },
  {
   "cell_type": "markdown",
   "metadata": {},
   "source": [
    "# Dictionary Data Structure"
   ]
  },
  {
   "cell_type": "code",
   "execution_count": 9,
   "metadata": {},
   "outputs": [
    {
     "name": "stdout",
     "output_type": "stream",
     "text": [
      "{1: 'jai', 2: 'jaya'}\n"
     ]
    }
   ],
   "source": [
    "# indexing and slicing concepts are not applicable\n",
    "# d={} or d=dict()\n",
    "# we are creating empty dictionary.\n",
    "d={}\n",
    "d[1]='jai'\n",
    "d[2]='jaya'\n",
    "print(d)\n"
   ]
  },
  {
   "cell_type": "code",
   "execution_count": 13,
   "metadata": {},
   "outputs": [
    {
     "name": "stdout",
     "output_type": "stream",
     "text": [
      "rana\n",
      "shyam\n"
     ]
    }
   ],
   "source": [
    "# How to access data from the dictionary.\n",
    "d={1:'rana',2:\"ram\",3:'shyam'}\n",
    "print(d[1])\n",
    "print(d[3])"
   ]
  },
  {
   "cell_type": "code",
   "execution_count": 5,
   "metadata": {},
   "outputs": [
    {
     "name": "stdout",
     "output_type": "stream",
     "text": [
      "Enter no of students:2\n",
      "Enter student name:nikhil\n",
      "Enter students marks:60\n",
      "Enter student name:shyam\n",
      "Enter students marks:60\n",
      "nikhil 60\n",
      "shyam 60\n"
     ]
    }
   ],
   "source": [
    "rec={}\n",
    "n=int(input(\"Enter no of students:\"))\n",
    "i=1\n",
    "while i<=n:\n",
    "    name=input('Enter student name:')\n",
    "    marks=int(input(\"Enter students marks:\"))\n",
    "    rec[name]=marks\n",
    "    i+=1\n",
    "for x in rec:\n",
    "    print(x,rec[x])"
   ]
  },
  {
   "cell_type": "code",
   "execution_count": 7,
   "metadata": {},
   "outputs": [
    {
     "name": "stdout",
     "output_type": "stream",
     "text": [
      "{100: 'rana', 201: 'ravi', 301: 'shyam'}\n",
      "{100: 'rana', 201: 'ravi', 301: 'shyam', 401: 'nikhil'}\n",
      "{100: 'rani', 201: 'ravi', 301: 'shyam', 401: 'nikhil'}\n"
     ]
    }
   ],
   "source": [
    "# # How to update dictionaries\n",
    "# # d[key]=value\n",
    "# If the key is not available then a new entry will be added to the dictionary with the\n",
    "# specified key-value pair\n",
    "# If the key is already available then old value will be replaced with new value.\n",
    "d={100:'rana',201:'ravi',301:\"shyam\"}\n",
    "print(d)\n",
    "d[401]='nikhil'\n",
    "print(d)\n",
    "d[100]='rani'\n",
    "print(d)"
   ]
  },
  {
   "cell_type": "code",
   "execution_count": 10,
   "metadata": {},
   "outputs": [
    {
     "name": "stdout",
     "output_type": "stream",
     "text": [
      "{201: 'ravi', 301: 'shyam'}\n"
     ]
    },
    {
     "ename": "KeyError",
     "evalue": "401",
     "output_type": "error",
     "traceback": [
      "\u001b[0;31m---------------------------------------------------------------------------\u001b[0m",
      "\u001b[0;31mKeyError\u001b[0m                                  Traceback (most recent call last)",
      "\u001b[0;32m<ipython-input-10-81b22847bf71>\u001b[0m in \u001b[0;36m<module>\u001b[0;34m\u001b[0m\n\u001b[1;32m      4\u001b[0m \u001b[0;32mdel\u001b[0m \u001b[0md\u001b[0m\u001b[0;34m[\u001b[0m\u001b[0;36m100\u001b[0m\u001b[0;34m]\u001b[0m\u001b[0;34m\u001b[0m\u001b[0;34m\u001b[0m\u001b[0m\n\u001b[1;32m      5\u001b[0m \u001b[0mprint\u001b[0m\u001b[0;34m(\u001b[0m\u001b[0md\u001b[0m\u001b[0;34m)\u001b[0m\u001b[0;34m\u001b[0m\u001b[0;34m\u001b[0m\u001b[0m\n\u001b[0;32m----> 6\u001b[0;31m \u001b[0;32mdel\u001b[0m \u001b[0md\u001b[0m\u001b[0;34m[\u001b[0m\u001b[0;36m401\u001b[0m\u001b[0;34m]\u001b[0m\u001b[0;34m\u001b[0m\u001b[0;34m\u001b[0m\u001b[0m\n\u001b[0m\u001b[1;32m      7\u001b[0m \u001b[0mprint\u001b[0m\u001b[0;34m(\u001b[0m\u001b[0md\u001b[0m\u001b[0;34m)\u001b[0m\u001b[0;34m\u001b[0m\u001b[0;34m\u001b[0m\u001b[0m\n",
      "\u001b[0;31mKeyError\u001b[0m: 401"
     ]
    }
   ],
   "source": [
    "# How to delete elements from dictionary?\n",
    "# del d[key]\n",
    "d={100:'rana',201:'ravi',301:\"shyam\"}\n",
    "del d[100]\n",
    "print(d)\n",
    "del d[401]\n",
    "print(d)"
   ]
  },
  {
   "cell_type": "code",
   "execution_count": 12,
   "metadata": {},
   "outputs": [
    {
     "name": "stdout",
     "output_type": "stream",
     "text": [
      "{100: 'rana', 201: 'ravi', 301: 'shyam'}\n",
      "{}\n"
     ]
    }
   ],
   "source": [
    "d={100:'rana',201:'ravi',301:\"shyam\"}\n",
    "print(d)\n",
    "d.clear()\n",
    "print(d)"
   ]
  },
  {
   "cell_type": "code",
   "execution_count": 21,
   "metadata": {},
   "outputs": [
    {
     "name": "stdout",
     "output_type": "stream",
     "text": [
      "{}\n",
      "{101: 'shyam', 102: 'rana', 103: 'ram'}\n",
      "{101: 'krishna', 102: 'hulk', 103: 'ironman'}\n"
     ]
    }
   ],
   "source": [
    "# 1. dict():\n",
    "# To create a dictionary\n",
    "# d=dict() ===>It creates empty dictionary\n",
    "# d=dict({100:\"durga\",200:\"ravi\"}) ==>It creates dictionary with specified elements\n",
    "# d=dict([(100,\"durga\"),(200,\"shiva\"),(300,\"ravi\")])==>It creates dictionary with the given\n",
    "# list of tuple elements\n",
    "\n",
    "d={}\n",
    "print(d)\n",
    "d=dict({101:'shyam',102:'rana',103:'ram'})\n",
    "print(d)\n",
    "d1=dict([(101,'krishna'),(102,'hulk'),(103,'ironman')])\n",
    "print(d1)"
   ]
  },
  {
   "cell_type": "code",
   "execution_count": 69,
   "metadata": {
    "scrolled": true
   },
   "outputs": [
    {
     "name": "stdout",
     "output_type": "stream",
     "text": [
      "krishna\n",
      "hulk\n",
      "None\n",
      "hulk\n",
      "hulk\n",
      "{101: 'krishna', 102: 'hulk', 103: 'ironman'}\n"
     ]
    }
   ],
   "source": [
    "# len():\n",
    "# Returns the number of items in the dictionary\n",
    "# clear():\n",
    "# To remove all elements from the dictionary\n",
    "# get():\n",
    "# To get the value associated with the key\n",
    "# d.get(key)\n",
    "# If the key is available then returns the corresponding value otherwise returns None.It\n",
    "# wont raise any error\n",
    "# d.get(key,defaultvalue)\n",
    "# If the key is available then returns the corresponding value otherwise returns default\n",
    "# value.\n",
    "d={101: 'krishna', 102: 'hulk', 103: 'ironman'}\n",
    "print(d[101])\n",
    "print(d.get(102))\n",
    "print(d.get(104))\n",
    "print(d.get(102,'hulk'))\n",
    "print(d.get(102,'test'))\n",
    "print(d)"
   ]
  },
  {
   "cell_type": "code",
   "execution_count": 27,
   "metadata": {},
   "outputs": [
    {
     "name": "stdout",
     "output_type": "stream",
     "text": [
      "krishna\n",
      "{102: 'hulk', 103: 'ironman'}\n"
     ]
    }
   ],
   "source": [
    "# pop():\n",
    "# d.pop(key)\n",
    "# It removes the entry associated with the specified key and returns the corresponding\n",
    "# value\n",
    "# If the specified key is not available then we will get KeyError\n",
    "d={101: 'krishna', 102: 'hulk', 103: 'ironman'}\n",
    "print(d.pop(101))\n",
    "print(d)\n"
   ]
  },
  {
   "cell_type": "code",
   "execution_count": 31,
   "metadata": {},
   "outputs": [
    {
     "name": "stdout",
     "output_type": "stream",
     "text": [
      "{101: 'krishna', 102: 'hulk', 103: 'ironman'}\n",
      "(103, 'ironman')\n"
     ]
    }
   ],
   "source": [
    "#  popitem():\n",
    "# It removes an arbitrary item(key-value) from the dictionaty and returns it.\n",
    "d={101: 'krishna', 102: 'hulk', 103: 'ironman'}\n",
    "print(d)\n",
    "print(d.popitem())"
   ]
  },
  {
   "cell_type": "code",
   "execution_count": 40,
   "metadata": {},
   "outputs": [
    {
     "name": "stdout",
     "output_type": "stream",
     "text": [
      "dict_keys([101, 102, 103])\n",
      "101\n",
      "102\n",
      "103\n",
      "krishna\n",
      "hulk\n",
      "ironman\n"
     ]
    }
   ],
   "source": [
    "# keys():\n",
    "# It returns all keys associated eith dictionary\n",
    "d={101: 'krishna', 102: 'hulk', 103: 'ironman'}\n",
    "print(d.keys())\n",
    "for i in d.keys():\n",
    "    print(i)\n",
    "for i in d.values():\n",
    "    print(i)    "
   ]
  },
  {
   "cell_type": "code",
   "execution_count": 43,
   "metadata": {},
   "outputs": [
    {
     "name": "stdout",
     "output_type": "stream",
     "text": [
      "keys is : 101 and values is: krishna\n",
      "keys is : 102 and values is: hulk\n",
      "keys is : 103 and values is: ironman\n"
     ]
    }
   ],
   "source": [
    "# items():\n",
    "# It returns list of tuples representing key-value pairs.\n",
    "# [(k,v),(k,v),(k,v)]\n",
    "d={101: 'krishna', 102: 'hulk', 103: 'ironman'}\n",
    "for k,v in d.items():\n",
    "    print('keys is :',k,'and values is:',v)\n",
    "\n"
   ]
  },
  {
   "cell_type": "code",
   "execution_count": 52,
   "metadata": {},
   "outputs": [
    {
     "name": "stdout",
     "output_type": "stream",
     "text": [
      "shyam\n",
      "{101: 'krishna', 102: 'hulk', 103: 'ironman', 104: 'shyam'}\n",
      "krishna\n",
      "{101: 'krishna', 102: 'hulk', 103: 'ironman', 104: 'shyam'}\n"
     ]
    }
   ],
   "source": [
    "# d.setdefault(k,v)\n",
    "d={101: 'krishna', 102: 'hulk', 103: 'ironman'}\n",
    "print(d.setdefault(104,'shyam'))\n",
    "print(d)\n",
    "print(d.setdefault(101,'ram'))\n",
    "print(d)"
   ]
  },
  {
   "cell_type": "code",
   "execution_count": 57,
   "metadata": {},
   "outputs": [
    {
     "name": "stdout",
     "output_type": "stream",
     "text": [
      "Enter dict values and some those values:{'b':101,'c':110}\n",
      "sum is: 211\n"
     ]
    }
   ],
   "source": [
    "# Q. Write a program to take dictionary from the keyboard and print the sum\n",
    "# of values?\n",
    "d=eval(input('Enter dict values and some those values:'))\n",
    "s=sum(d.values())\n",
    "print('sum is:',s)\n"
   ]
  },
  {
   "cell_type": "code",
   "execution_count": 71,
   "metadata": {
    "code_folding": []
   },
   "outputs": [
    {
     "name": "stdout",
     "output_type": "stream",
     "text": [
      "Enter any strings:this is the\n",
      "no of occurence is: t and no of time repetions: 2\n",
      "no of occurence is: h and no of time repetions: 2\n",
      "no of occurence is: i and no of time repetions: 2\n",
      "no of occurence is: s and no of time repetions: 2\n",
      "no of occurence is:   and no of time repetions: 2\n",
      "no of occurence is: e and no of time repetions: 1\n"
     ]
    }
   ],
   "source": [
    "# Q. Write a program to find number of occurrences of each letter present in\n",
    "# the given string?\n",
    "strings=input(\"Enter any strings:\")\n",
    "d={}\n",
    "for x in strings:\n",
    "    d[x]=d.get(x,0)+1\n",
    "for k,v in d.items():\n",
    "    print('no of occurence is:',k,'and no of time repetions:',v)"
   ]
  },
  {
   "cell_type": "code",
   "execution_count": 78,
   "metadata": {},
   "outputs": [
    {
     "name": "stdout",
     "output_type": "stream",
     "text": [
      "Enter any string to check:this is the python 3.7\n",
      "vowles are: i no of thimes: 2\n",
      "vowles are: e no of thimes: 1\n",
      "vowles are: o no of thimes: 1\n"
     ]
    }
   ],
   "source": [
    "# Q. Write a program to find number of occurrences of each vowel present in\n",
    "# the given string?\n",
    "\n",
    "words=input('Enter any string to check:')\n",
    "vowles ={'a','e','i','o','u'}\n",
    "d={}\n",
    "\n",
    "for x in words:\n",
    "    if x in vowles:\n",
    "        d[x]=d.get(x,0)+1  \n",
    "for k,v in d.items():\n",
    "    print('vowles are:',k,'no of thimes:',v)\n"
   ]
  },
  {
   "cell_type": "code",
   "execution_count": 87,
   "metadata": {},
   "outputs": [
    {
     "name": "stdout",
     "output_type": "stream",
     "text": [
      "{32, 2, 34, 4, 36, 6, 38, 8, 10, 12, 14, 16, 18, 20, 22, 24, 26, 28, 30}\n",
      "<class 'set'>\n",
      "{1: 3, 2: 6, 3: 9, 4: 12, 5: 15, 6: 18, 7: 21, 8: 24, 9: 27, 10: 30, 11: 33, 12: 36, 13: 39, 14: 42, 15: 45, 16: 48, 17: 51, 18: 54, 19: 57}\n",
      "<class 'dict'>\n"
     ]
    }
   ],
   "source": [
    "# Dictionary Comprehension:\n",
    "# Comprehension concept applicable for dictionaries\n",
    "\n",
    "d={i*2 for i in range(1,20)}\n",
    "print(d)\n",
    "print(type(d))\n",
    "\n",
    "d={i:i*3 for i in range(1,20)}\n",
    "print(d)\n",
    "print(type(d))"
   ]
  }
 ],
 "metadata": {
  "kernelspec": {
   "display_name": "Python 3",
   "language": "python",
   "name": "python3"
  },
  "language_info": {
   "codemirror_mode": {
    "name": "ipython",
    "version": 3
   },
   "file_extension": ".py",
   "mimetype": "text/x-python",
   "name": "python",
   "nbconvert_exporter": "python",
   "pygments_lexer": "ipython3",
   "version": "3.6.9"
  },
  "varInspector": {
   "cols": {
    "lenName": 16,
    "lenType": 16,
    "lenVar": 40
   },
   "kernels_config": {
    "python": {
     "delete_cmd_postfix": "",
     "delete_cmd_prefix": "del ",
     "library": "var_list.py",
     "varRefreshCmd": "print(var_dic_list())"
    },
    "r": {
     "delete_cmd_postfix": ") ",
     "delete_cmd_prefix": "rm(",
     "library": "var_list.r",
     "varRefreshCmd": "cat(var_dic_list()) "
    }
   },
   "types_to_exclude": [
    "module",
    "function",
    "builtin_function_or_method",
    "instance",
    "_Feature"
   ],
   "window_display": false
  }
 },
 "nbformat": 4,
 "nbformat_minor": 2
}

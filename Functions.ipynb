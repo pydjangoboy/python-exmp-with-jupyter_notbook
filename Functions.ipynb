{
 "cells": [
  {
   "cell_type": "markdown",
   "metadata": {},
   "source": [
    "# FUNCTIONS"
   ]
  },
  {
   "cell_type": "code",
   "execution_count": 2,
   "metadata": {},
   "outputs": [
    {
     "name": "stdout",
     "output_type": "stream",
     "text": [
      "Hello  user define functions\n"
     ]
    }
   ],
   "source": [
    "# # 1. Built in Functions\n",
    "\n",
    "# # 2. User Defined Functions\n",
    "\n",
    "# 1. Built in Functions: The functions which are coming along with Python software automatically,are called built\n",
    "# in functions or pre defined functions\n",
    "\n",
    "#  Eg:\n",
    "# id()\n",
    "# type()\n",
    "# input()\n",
    "# eval()\n",
    "# etc..\n",
    "\n",
    "# 2. User Defined Functions:\n",
    "# The functions which are developed by programmer explicitly according to business\n",
    "# requirements ,are called user defined functions. eg:\n",
    "\n",
    "def wish():\n",
    "    print(\"Hello  user define functions\")\n",
    "    \n",
    "wish()"
   ]
  },
  {
   "cell_type": "code",
   "execution_count": 9,
   "metadata": {
    "scrolled": true
   },
   "outputs": [
    {
     "name": "stdout",
     "output_type": "stream",
     "text": [
      "name of student maya\n",
      "name of student jaya\n"
     ]
    }
   ],
   "source": [
    "# Parameters\n",
    "# Eg: Write a function to take name of the student as input and print wish message by\n",
    "# name\n",
    "\n",
    "def student(name):\n",
    "    print('name of student',name)\n",
    "student('maya')\n",
    "s=student('jaya')\n"
   ]
  },
  {
   "cell_type": "code",
   "execution_count": 14,
   "metadata": {},
   "outputs": [
    {
     "data": {
      "text/plain": [
       "16"
      ]
     },
     "execution_count": 14,
     "metadata": {},
     "output_type": "execute_result"
    }
   ],
   "source": [
    "# Eg: Write a function to take number as input and print its square value\n",
    "def number(x):\n",
    "    return x*x\n",
    "\n",
    "number(3)\n",
    "number(4)"
   ]
  },
  {
   "cell_type": "code",
   "execution_count": 17,
   "metadata": {},
   "outputs": [
    {
     "name": "stdout",
     "output_type": "stream",
     "text": [
      "Given no of square is: 3\n",
      "Given no of square is: 4\n"
     ]
    }
   ],
   "source": [
    "def number(x):\n",
    "    print('Given no of square is:',x)\n",
    "    \n",
    "number(3)\n",
    "number(4)"
   ]
  },
  {
   "cell_type": "code",
   "execution_count": 20,
   "metadata": {},
   "outputs": [
    {
     "name": "stdout",
     "output_type": "stream",
     "text": [
      "the sum of two no is: 20\n",
      "sum of two no is: 50\n"
     ]
    }
   ],
   "source": [
    "# Return Statement:\n",
    "# Q. Write a function to accept 2 numbers as input and return sum.\n",
    "def add(x,y):\n",
    "    return x+y #If we are not writing return statement then default return value is None\n",
    "\n",
    "s=add(10,10)\n",
    "print('the sum of two no is:',s)\n",
    "\n",
    "print('sum of two no is:',add(20,30))"
   ]
  },
  {
   "cell_type": "code",
   "execution_count": 25,
   "metadata": {},
   "outputs": [
    {
     "name": "stdout",
     "output_type": "stream",
     "text": [
      "<class 'function'>\n"
     ]
    }
   ],
   "source": [
    "def add():\n",
    "    pass\n",
    "print(type(add))"
   ]
  },
  {
   "cell_type": "code",
   "execution_count": 30,
   "metadata": {},
   "outputs": [
    {
     "name": "stdout",
     "output_type": "stream",
     "text": [
      "Enter any int no:1242\n",
      "entered no is even: 1242\n"
     ]
    }
   ],
   "source": [
    "# Q. Write a function to check whether the given number is even or odd?\n",
    "def check(num):\n",
    "    if num%2==0:\n",
    "        print('entered no is even:',num)\n",
    "    else:\n",
    "        print('entered no is odd:',num)\n",
    "num=int(input('Enter any int no:'))\n",
    "\n",
    "# c=check(num) here both object work same like that \n",
    "check(num)"
   ]
  },
  {
   "cell_type": "code",
   "execution_count": 46,
   "metadata": {},
   "outputs": [
    {
     "name": "stdout",
     "output_type": "stream",
     "text": [
      "(40, -20)\n"
     ]
    }
   ],
   "source": [
    "# Returning multiple values from a function:\n",
    "def mulvalue(a,b):\n",
    "    sum=a+b\n",
    "    sub=a-b\n",
    "    return sum,sub\n",
    "x=mulvalue(10,30)\n",
    "print(x)"
   ]
  },
  {
   "cell_type": "code",
   "execution_count": 49,
   "metadata": {},
   "outputs": [
    {
     "name": "stdout",
     "output_type": "stream",
     "text": [
      "(30, -10, 200, 0.5, 10)\n",
      "30\n",
      "-10\n",
      "200\n",
      "0.5\n",
      "10\n"
     ]
    }
   ],
   "source": [
    "def cal(a,b):\n",
    "    sum=a+b\n",
    "    sub=a-b\n",
    "    mul=a*b\n",
    "    div=a/b\n",
    "    mod=a%b\n",
    "    return sum,sub,mul,div,mod\n",
    "\n",
    "c=cal(10,20)\n",
    "print(c)\n",
    "for i in c:\n",
    "    print(i)\n",
    "    "
   ]
  },
  {
   "cell_type": "markdown",
   "metadata": {},
   "source": [
    "# Types of arguments\n",
    "There are 4 types are actual arguments are allowed in Python.\n",
    "1. positional arguments\n",
    "2. keyword arguments\n",
    "3. default arguments\n",
    "4. Variable length arguments\n"
   ]
  },
  {
   "cell_type": "code",
   "execution_count": 52,
   "metadata": {},
   "outputs": [
    {
     "name": "stdout",
     "output_type": "stream",
     "text": [
      "-10\n",
      "10\n"
     ]
    }
   ],
   "source": [
    "# 1. positional arguments: These are the arguments passed to function in correct positional order.\n",
    "def posi(a,b):\n",
    "    print(a-b)\n",
    "    \n",
    "posi(10,20)\n",
    "posi(20,10)"
   ]
  },
  {
   "cell_type": "code",
   "execution_count": 58,
   "metadata": {},
   "outputs": [
    {
     "name": "stdout",
     "output_type": "stream",
     "text": [
      "hwllo maya and roll_no is: 101\n",
      "hwllo rani and roll_no is: 103\n"
     ]
    }
   ],
   "source": [
    "# 2. keyword arguments:\n",
    "# We can pass argument values by keyword i.e by parameter name.\n",
    "\n",
    "# Note:\n",
    "# We can use both positional and keyword arguments simultaneously. But first we have to\n",
    "# take positional arguments and then keyword arguments,otherwise we will get\n",
    "# syntaxerror.\n",
    "\n",
    "def karg(name,rollno):\n",
    "    print('hwllo',name,'and roll_no is:',rollno)\n",
    "\n",
    "karg(name='maya',rollno=101)  \n",
    "karg(rollno=103,name='rani')\n"
   ]
  },
  {
   "cell_type": "code",
   "execution_count": 65,
   "metadata": {},
   "outputs": [
    {
     "name": "stdout",
     "output_type": "stream",
     "text": [
      "name is: maya\n",
      "name is: ram\n",
      "name is: jan\n"
     ]
    }
   ],
   "source": [
    "# 3. Default Arguments:\n",
    "# Sometimes we can provide default values for our positional arguments.\n",
    "\n",
    "def defau(name1='maya'):\n",
    "    print('name is:',name1)\n",
    "    \n",
    "defau()\n",
    "defau('ram')\n",
    "defau(name1='jan')"
   ]
  },
  {
   "cell_type": "code",
   "execution_count": 74,
   "metadata": {},
   "outputs": [
    {
     "name": "stdout",
     "output_type": "stream",
     "text": [
      "Sum of n numbers is: 0\n",
      "Sum of n numbers is: 10\n",
      "Sum of n numbers is: 30\n",
      "Sum of n numbers is: 100\n"
     ]
    }
   ],
   "source": [
    "# # 4. Variable length arguments:\n",
    "\n",
    "# Sometimes we can pass variable number of arguments to our function,such type of\n",
    "# arguments are called variable length arguments.\n",
    "# We can declare a variable length argument with * symbol as follows\n",
    "# def f1(*n):\n",
    "# Internally all these values represented in the form of tuple.\n",
    "\n",
    "def sum(*n):\n",
    "    total=0\n",
    "    for i in n:\n",
    "        total = total+i\n",
    "    print('Sum of n numbers is:',total)    \n",
    "sum()\n",
    "sum(10)\n",
    "sum(10,20)\n",
    "sum(10,20,30,40)  "
   ]
  },
  {
   "cell_type": "code",
   "execution_count": 3,
   "metadata": {},
   "outputs": [
    {
     "name": "stdout",
     "output_type": "stream",
     "text": [
      "10\n",
      "10\n",
      "20\n",
      "30\n",
      "10\n",
      "a\n",
      "20\n",
      "b\n"
     ]
    }
   ],
   "source": [
    "# We can mix variable length arguments with positional arguments.\n",
    "def  mix(n1,*va):\n",
    "    print(n1)\n",
    "    for i in va:\n",
    "        print(i)\n",
    "\n",
    "mix(10)\n",
    "mix(10,20,30)\n",
    "mix(10,'a',20,'b')\n",
    "    "
   ]
  },
  {
   "cell_type": "code",
   "execution_count": 7,
   "metadata": {},
   "outputs": [
    {
     "name": "stdout",
     "output_type": "stream",
     "text": [
      "a\n",
      "b\n",
      "10\n"
     ]
    }
   ],
   "source": [
    "# Note: After variable length argument,if we are taking any other arguments then we\n",
    "# should provide values as keyword arguments.\n",
    "\n",
    "def v1(*v,n1):\n",
    "    for v1 in v:\n",
    "        print(v1\n",
    "             )\n",
    "    print(n1)    \n",
    "    \n",
    "v1('a','b',n1=10)\n",
    "# v1(n1=10,'a','b') #SyntaxError: positional argument follows keyword argument\n",
    "\n"
   ]
  },
  {
   "cell_type": "code",
   "execution_count": 10,
   "metadata": {},
   "outputs": [
    {
     "name": "stdout",
     "output_type": "stream",
     "text": [
      "n1 = 10\n",
      "n2 = 30\n",
      "n = 30\n",
      "rno = 101\n",
      "name = krishna\n",
      "marks = 70\n"
     ]
    }
   ],
   "source": [
    "# We can declare key word variable length arguments also.\n",
    "# For this we have to use **.\n",
    "# def f1(**n):\n",
    "\n",
    "# We can call this function by passing any number of keyword arguments. Internally these\n",
    "# keyword arguments will be stored inside a dictionary.    \n",
    "\n",
    "def display(**kwargs):\n",
    "    for k,v in kwargs.items():\n",
    "        print(k,'=',v)\n",
    "\n",
    "display(n1=10,n2=30,n=30)\n",
    "display(rno=101,name='krishna',marks=70)"
   ]
  },
  {
   "cell_type": "code",
   "execution_count": 12,
   "metadata": {},
   "outputs": [],
   "source": [
    "# # Some useful statements\n",
    "# 1. A group of statements is called a function\n",
    "# 2. A group of functions is called Module\n",
    "# 3. A group of Modules is nothing but Library"
   ]
  },
  {
   "cell_type": "code",
   "execution_count": 14,
   "metadata": {},
   "outputs": [
    {
     "name": "stdout",
     "output_type": "stream",
     "text": [
      "10\n",
      "10\n"
     ]
    }
   ],
   "source": [
    "# Types of Variables\n",
    "# Python supports 2 types of variables.\n",
    "# 1. Global Variables\n",
    "# 2. Local Variables\n",
    "\n",
    "# Global variables:which are declared outside of function\n",
    "# These variables can be accessed in all functions of that module\n",
    "\n",
    "a=10\n",
    "def f1():\n",
    "    print(a)\n",
    "\n",
    "def f2():\n",
    "    print(a)\n",
    "    \n",
    "f1()\n",
    "f2()"
   ]
  },
  {
   "cell_type": "code",
   "execution_count": 7,
   "metadata": {},
   "outputs": [
    {
     "name": "stdout",
     "output_type": "stream",
     "text": [
      "20\n"
     ]
    },
    {
     "ename": "NameError",
     "evalue": "name 'a' is not defined",
     "output_type": "error",
     "traceback": [
      "\u001b[0;31m---------------------------------------------------------------------------\u001b[0m",
      "\u001b[0;31mNameError\u001b[0m                                 Traceback (most recent call last)",
      "\u001b[0;32m<ipython-input-7-a2c44b8d892d>\u001b[0m in \u001b[0;36m<module>\u001b[0;34m\u001b[0m\n\u001b[1;32m     11\u001b[0m \u001b[0;34m\u001b[0m\u001b[0m\n\u001b[1;32m     12\u001b[0m \u001b[0mf3\u001b[0m\u001b[0;34m(\u001b[0m\u001b[0;34m)\u001b[0m\u001b[0;34m\u001b[0m\u001b[0;34m\u001b[0m\u001b[0m\n\u001b[0;32m---> 13\u001b[0;31m \u001b[0mf4\u001b[0m\u001b[0;34m(\u001b[0m\u001b[0;34m)\u001b[0m\u001b[0;34m\u001b[0m\u001b[0;34m\u001b[0m\u001b[0m\n\u001b[0m",
      "\u001b[0;32m<ipython-input-7-a2c44b8d892d>\u001b[0m in \u001b[0;36mf4\u001b[0;34m()\u001b[0m\n\u001b[1;32m      8\u001b[0m     \u001b[0mprint\u001b[0m\u001b[0;34m(\u001b[0m\u001b[0ma\u001b[0m\u001b[0;34m)\u001b[0m\u001b[0;34m\u001b[0m\u001b[0;34m\u001b[0m\u001b[0m\n\u001b[1;32m      9\u001b[0m \u001b[0;32mdef\u001b[0m \u001b[0mf4\u001b[0m\u001b[0;34m(\u001b[0m\u001b[0;34m)\u001b[0m\u001b[0;34m:\u001b[0m\u001b[0;34m\u001b[0m\u001b[0;34m\u001b[0m\u001b[0m\n\u001b[0;32m---> 10\u001b[0;31m     \u001b[0mprint\u001b[0m\u001b[0;34m(\u001b[0m\u001b[0ma\u001b[0m\u001b[0;34m)\u001b[0m\u001b[0;34m\u001b[0m\u001b[0;34m\u001b[0m\u001b[0m\n\u001b[0m\u001b[1;32m     11\u001b[0m \u001b[0;34m\u001b[0m\u001b[0m\n\u001b[1;32m     12\u001b[0m \u001b[0mf3\u001b[0m\u001b[0;34m(\u001b[0m\u001b[0;34m)\u001b[0m\u001b[0;34m\u001b[0m\u001b[0;34m\u001b[0m\u001b[0m\n",
      "\u001b[0;31mNameError\u001b[0m: name 'a' is not defined"
     ]
    }
   ],
   "source": [
    "# 2. Local Variables:\n",
    "# The variables which are declared inside a function are called local variables.\n",
    "# Local variables are available only for the function in which we declared it.i.e from outside\n",
    "# of function we cannot access.\n",
    "\n",
    "def f3():\n",
    "    a=20\n",
    "    print(a)\n",
    "def f4():\n",
    "    print(a)\n",
    "\n",
    "f3()\n",
    "f4()"
   ]
  },
  {
   "cell_type": "code",
   "execution_count": 9,
   "metadata": {},
   "outputs": [
    {
     "name": "stdout",
     "output_type": "stream",
     "text": [
      "888\n",
      "100\n"
     ]
    }
   ],
   "source": [
    "# global keyword:\n",
    "# We can use global keyword for the following 2 purposes:\n",
    "# 1. To declare global variable inside function\n",
    "# 2. To make global variable available to the function so that we can perform required\n",
    "# modifications\n",
    "\n",
    "a=100\n",
    "def f1():\n",
    "    a=888\n",
    "    print(a)\n",
    "    \n",
    "def f2():\n",
    "    print(a)\n",
    "    \n",
    "f1()\n",
    "f2()"
   ]
  },
  {
   "cell_type": "code",
   "execution_count": 11,
   "metadata": {},
   "outputs": [
    {
     "name": "stdout",
     "output_type": "stream",
     "text": [
      "999\n",
      "999\n"
     ]
    }
   ],
   "source": [
    "# this is for global keword \n",
    "a=200\n",
    "def f1():\n",
    "    global a\n",
    "    a=999\n",
    "    print(a)\n",
    "    \n",
    "def f2():\n",
    "    print(a)\n",
    "\n",
    "f1()\n",
    "f2()"
   ]
  },
  {
   "cell_type": "code",
   "execution_count": 16,
   "metadata": {},
   "outputs": [],
   "source": [
    "# Recursive Functions\n",
    "# A function that calls itself is known as Recursive Function.\n",
    "# Eg:\n",
    "# factorial(3)=3*factorial(2)\n",
    "            # =3*2*factorial(1)\n",
    "            # =3*2*1*factorial(0)\n",
    "            # =3*2*1*1\n",
    "            # =6\n",
    "# factorial(n)= n*factorial(n-1)"
   ]
  },
  {
   "cell_type": "code",
   "execution_count": 21,
   "metadata": {},
   "outputs": [
    {
     "name": "stdout",
     "output_type": "stream",
     "text": [
      "Enter int no is:5\n",
      "factorial is : 120\n"
     ]
    }
   ],
   "source": [
    "# Q. Write a Python Function to find factorial of given number with recursion.\n",
    "def factorial(n):\n",
    "    if n==0:\n",
    "        result=1\n",
    "    else:\n",
    "        result=n*factorial(n-1)\n",
    "    return result    \n",
    "\n",
    "n=int(input('Enter int no is:'))\n",
    "print('factorial is :',factorial(n))"
   ]
  },
  {
   "cell_type": "code",
   "execution_count": 31,
   "metadata": {},
   "outputs": [
    {
     "name": "stdout",
     "output_type": "stream",
     "text": [
      "the square of 5 is: 25\n"
     ]
    }
   ],
   "source": [
    "# Anonymous Functions:\n",
    "# Sometimes we can declare a function without any name,such type of nameless functions\n",
    "# are called anonymous functions or lambda functions.\n",
    "# The main purpose of anonymous function is just for instant use(i.e for one time usage)\n",
    "\n",
    "# Normal Function:\n",
    "# We can define by using def keyword.\n",
    "# def squareIt(n):\n",
    "#     return n*n\n",
    "\n",
    "# lambda Function :\n",
    "# We can define by using lambda keyword\n",
    "# lambda n:n*n\n",
    "\n",
    "# Syntax of lambda Function:\n",
    "# lambda argument_list : expression\n",
    "\n",
    "# Note: By using Lambda Functions we can write very concise code so that readability of\n",
    "# the program will be improved\n",
    "\n",
    "# Q. Write a program to create a lambda function to find square of given\n",
    "# number?\n",
    "\n",
    "s=lambda n:n*n\n",
    "print('the square of' ,n,'is:',s(5))"
   ]
  },
  {
   "cell_type": "code",
   "execution_count": 34,
   "metadata": {},
   "outputs": [
    {
     "name": "stdout",
     "output_type": "stream",
     "text": [
      "the sum of given no is: 30\n"
     ]
    }
   ],
   "source": [
    "# Q. Lambda function to find sum of 2 given numbers\n",
    "s=lambda a,b:a+b\n",
    "print('the sum of given no is:',s(10,20))"
   ]
  },
  {
   "cell_type": "code",
   "execution_count": 37,
   "metadata": {},
   "outputs": [
    {
     "name": "stdout",
     "output_type": "stream",
     "text": [
      "the biggest of 20\n"
     ]
    }
   ],
   "source": [
    "# Q. Lambda Function to find biggest of given values.\n",
    "\n",
    "l=lambda a,b:a if a>b else b\n",
    "print('the biggest of',l(10,20))"
   ]
  },
  {
   "cell_type": "code",
   "execution_count": 40,
   "metadata": {},
   "outputs": [
    {
     "name": "stdout",
     "output_type": "stream",
     "text": [
      "[0, 10, 20, 30]\n",
      "<class 'list'>\n"
     ]
    }
   ],
   "source": [
    "# filter() function:\n",
    "# We can use filter() function to filter values from the given sequence based on some\n",
    "# condition.\n",
    "\n",
    "l=[0,5,10,15,20,25,30]\n",
    "l1=list(filter(lambda x:x%2==0,l))\n",
    "print(l1)\n",
    "print(type(l1))"
   ]
  },
  {
   "cell_type": "code",
   "execution_count": 44,
   "metadata": {},
   "outputs": [
    {
     "name": "stdout",
     "output_type": "stream",
     "text": [
      "[2, 4, 6, 8, 10]\n"
     ]
    }
   ],
   "source": [
    "# map() function:\n",
    "l=[1,2,3,4,5]\n",
    "l1=list(map(lambda x:2*x,l))\n",
    "print(l1)"
   ]
  },
  {
   "cell_type": "code",
   "execution_count": 46,
   "metadata": {},
   "outputs": [
    {
     "name": "stdout",
     "output_type": "stream",
     "text": [
      "[2, 6, 12, 20]\n"
     ]
    }
   ],
   "source": [
    "# map function also use for multiple lists but list should have same length\n",
    "l1=[1,2,3,4]\n",
    "l2=[2,3,4,5]\n",
    "l3=list(map(lambda x,y:x*y,l1,l2))\n",
    "print(l3)"
   ]
  },
  {
   "cell_type": "code",
   "execution_count": 54,
   "metadata": {},
   "outputs": [
    {
     "name": "stdout",
     "output_type": "stream",
     "text": [
      "google is best search engine\n",
      "yahho is best search engine\n"
     ]
    }
   ],
   "source": [
    "# Function Aliasing:\n",
    "# For the existing function we can give another name, which is nothing but function aliasing.\n",
    "\n",
    "def fun(name):\n",
    "    print( name,'is best search engine')\n",
    "    \n",
    "fun1=fun\n",
    "fun('google')\n",
    "fun1('yahho')"
   ]
  },
  {
   "cell_type": "code",
   "execution_count": 56,
   "metadata": {},
   "outputs": [
    {
     "name": "stdout",
     "output_type": "stream",
     "text": [
      "this is the outer function\n",
      "oouter fun is callin inner fun\n",
      "this is the inner function\n"
     ]
    }
   ],
   "source": [
    "# Nested Functions:\n",
    "# We can declare a function inside another function, such type of functions are called Nested\n",
    "# functions.\n",
    "\n",
    "def outer():\n",
    "    print('this is the outer function')\n",
    "    def inner():\n",
    "        print('this is the inner function')\n",
    "    print('oouter fun is calling inner fun')    \n",
    "    inner()    \n",
    "outer()    "
   ]
  },
  {
   "cell_type": "code",
   "execution_count": 64,
   "metadata": {},
   "outputs": [
    {
     "name": "stdout",
     "output_type": "stream",
     "text": [
      "this is the outer function\n",
      "oouter fun is return inner fun\n",
      "this is the inner function\n"
     ]
    }
   ],
   "source": [
    "def outer():\n",
    "    print('this is the outer function')\n",
    "    def inner():\n",
    "        print('this is the inner function')\n",
    "    print('oouter fun is return inner fun')    \n",
    "    return inner    \n",
    "f11=outer()\n",
    "f11()"
   ]
  },
  {
   "cell_type": "code",
   "execution_count": 73,
   "metadata": {},
   "outputs": [
    {
     "name": "stdout",
     "output_type": "stream",
     "text": [
      "hello krishna how are you today\n"
     ]
    }
   ],
   "source": [
    "# Function Decorators:\n",
    "#  we can extend the functionality of existing functions without modifies that function.\n",
    "\n",
    "def decor(func):\n",
    "    def inner(name):\n",
    "        if name=='krishna':\n",
    "            print('hello',name,'how are you today')\n",
    "        else:\n",
    "            func(name)\n",
    "    return inner\n",
    "\n",
    "@decor\n",
    "def wish(name):\n",
    "    print('hwllo',name,'goood morning')  \n",
    "    \n",
    "wish('rana')\n",
    "wish('krishna')\n",
    "\n"
   ]
  },
  {
   "cell_type": "code",
   "execution_count": 105,
   "metadata": {},
   "outputs": [
    {
     "name": "stdout",
     "output_type": "stream",
     "text": [
      "hwllo rana this is bad morning\n",
      "hwllo raga this is bad morning\n",
      "helllo raga very good morning\n",
      "hwllo ram this is bad morning\n"
     ]
    }
   ],
   "source": [
    "# How to call same function with decorator and without decorator:\n",
    "# We should not use @decor\n",
    "def decor(func):\n",
    "    def inner (name):\n",
    "        if name==\"raga\":\n",
    "            print('helllo',name,'very good morning')\n",
    "        else:\n",
    "            func(name)\n",
    "    return inner\n",
    "\n",
    "def wish1(name):\n",
    "    print('hwllo',name,'this is bad morning')\n",
    "    \n",
    "dec=decor(wish1)\n",
    "wish1('rana')\n",
    "wish1('raga')\n",
    "dec('raga') # here decorator will be exectuted \n",
    "dec('ram')# this one also"
   ]
  },
  {
   "cell_type": "code",
   "execution_count": 109,
   "metadata": {},
   "outputs": [
    {
     "name": "stdout",
     "output_type": "stream",
     "text": [
      "Second decor execution\n",
      "First decor execution\n",
      "hlwo krishna good morning\n"
     ]
    }
   ],
   "source": [
    "# Decorator Chaining\n",
    "# We can define multiple decorators for the same function and all these decorators will\n",
    "# form Decorator Chaining.\n",
    "\n",
    "# Eg:\n",
    "# @decor1\n",
    "# @decor\n",
    "# def num():\n",
    "\n",
    "def decor(func):\n",
    "    def inner(name):\n",
    "        print('First decor execution')\n",
    "        func(name)\n",
    "    return inner    \n",
    "\n",
    "def decor1(func):\n",
    "    def inner(name):\n",
    "        print('Second decor execution')\n",
    "        func(name)\n",
    "    return inner \n",
    "\n",
    "@decor1\n",
    "@decor\n",
    "def final(name):\n",
    "    print('hlwo',name,'good morning')\n",
    "\n",
    "final('krishna')    "
   ]
  },
  {
   "cell_type": "code",
   "execution_count": 113,
   "metadata": {},
   "outputs": [
    {
     "name": "stdout",
     "output_type": "stream",
     "text": [
      "<class 'generator'>\n",
      "a\n",
      "b\n"
     ]
    },
    {
     "ename": "StopIteration",
     "evalue": "",
     "output_type": "error",
     "traceback": [
      "\u001b[0;31m---------------------------------------------------------------------------\u001b[0m",
      "\u001b[0;31mStopIteration\u001b[0m                             Traceback (most recent call last)",
      "\u001b[0;32m<ipython-input-113-3cd08d652855>\u001b[0m in \u001b[0;36m<module>\u001b[0;34m\u001b[0m\n\u001b[1;32m     12\u001b[0m \u001b[0mprint\u001b[0m\u001b[0;34m(\u001b[0m\u001b[0mnext\u001b[0m\u001b[0;34m(\u001b[0m\u001b[0mg\u001b[0m\u001b[0;34m)\u001b[0m\u001b[0;34m)\u001b[0m\u001b[0;34m\u001b[0m\u001b[0;34m\u001b[0m\u001b[0m\n\u001b[1;32m     13\u001b[0m \u001b[0mprint\u001b[0m\u001b[0;34m(\u001b[0m\u001b[0mnext\u001b[0m\u001b[0;34m(\u001b[0m\u001b[0mg\u001b[0m\u001b[0;34m)\u001b[0m\u001b[0;34m)\u001b[0m\u001b[0;34m\u001b[0m\u001b[0;34m\u001b[0m\u001b[0m\n\u001b[0;32m---> 14\u001b[0;31m \u001b[0mprint\u001b[0m\u001b[0;34m(\u001b[0m\u001b[0mnext\u001b[0m\u001b[0;34m(\u001b[0m\u001b[0mg\u001b[0m\u001b[0;34m)\u001b[0m\u001b[0;34m)\u001b[0m \u001b[0;31m#StopIteration: only provide two arg that's why we are getting error\u001b[0m\u001b[0;34m\u001b[0m\u001b[0;34m\u001b[0m\u001b[0m\n\u001b[0m",
      "\u001b[0;31mStopIteration\u001b[0m: "
     ]
    }
   ],
   "source": [
    "# Generators:\n",
    "# Generator is a function which is responsible to generate a sequence of values.\n",
    "# We can write generator functions just like ordinary functions, but it uses yield keyword to\n",
    "# return values\n",
    "\n",
    "def mygen():\n",
    "    yield 'a'\n",
    "    yield 'b'\n",
    "\n",
    "g=mygen()\n",
    "print(type(g))\n",
    "print(next(g))\n",
    "print(next(g))\n",
    "print(next(g)) #StopIteration: only provide two arg that's why we are getting error"
   ]
  },
  {
   "cell_type": "code",
   "execution_count": 116,
   "metadata": {},
   "outputs": [
    {
     "name": "stdout",
     "output_type": "stream",
     "text": [
      "start no \n",
      "5\n",
      "4\n",
      "3\n",
      "2\n",
      "1\n"
     ]
    }
   ],
   "source": [
    "# Advantages of Generator Functions:\n",
    "# Generators are best suitable for reading data from large number of large files\n",
    "# Generators work great for web scraping and crawling.\n",
    "\n",
    "def num(n1):\n",
    "    print('start no ')\n",
    "    while n1>0:\n",
    "        yield n1\n",
    "        n1=n1-1\n",
    "        \n",
    "v=num(5)\n",
    "for i in v:\n",
    "    print(i)"
   ]
  },
  {
   "cell_type": "code",
   "execution_count": null,
   "metadata": {},
   "outputs": [],
   "source": [
    "# Generators vs Normal Collections wrt performance:\n",
    "# Normal Collection:\n",
    "\n",
    "l=[x*x for x in range(10000000000000000)]\n",
    "print(l[0]) #We will get MemoryError in this case because all these values are required to store in the memory."
   ]
  },
  {
   "cell_type": "code",
   "execution_count": 1,
   "metadata": {},
   "outputs": [
    {
     "name": "stdout",
     "output_type": "stream",
     "text": [
      "0\n",
      "1\n"
     ]
    }
   ],
   "source": [
    "# Generators:We won't get any MemoryError because the values won't be stored at the beginning\n",
    "\n",
    "g=(x*x for x in range(10000000000000000))\n",
    "print(next(g))\n",
    "print(next(g))       "
   ]
  }
 ],
 "metadata": {
  "kernelspec": {
   "display_name": "Python 3.6.9 64-bit",
   "language": "python",
   "name": "python36964bitf03a226a30e6463ab7aca1f43c95ae5f"
  },
  "language_info": {
   "codemirror_mode": {
    "name": "ipython",
    "version": 3
   },
   "file_extension": ".py",
   "mimetype": "text/x-python",
   "name": "python",
   "nbconvert_exporter": "python",
   "pygments_lexer": "ipython3",
   "version": "3.6.9"
  },
  "varInspector": {
   "cols": {
    "lenName": 16,
    "lenType": 16,
    "lenVar": 40
   },
   "kernels_config": {
    "python": {
     "delete_cmd_postfix": "",
     "delete_cmd_prefix": "del ",
     "library": "var_list.py",
     "varRefreshCmd": "print(var_dic_list())"
    },
    "r": {
     "delete_cmd_postfix": ") ",
     "delete_cmd_prefix": "rm(",
     "library": "var_list.r",
     "varRefreshCmd": "cat(var_dic_list()) "
    }
   },
   "types_to_exclude": [
    "module",
    "function",
    "builtin_function_or_method",
    "instance",
    "_Feature"
   ],
   "window_display": false
  }
 },
 "nbformat": 4,
 "nbformat_minor": 4
}
